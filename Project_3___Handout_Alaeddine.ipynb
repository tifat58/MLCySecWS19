{
  "nbformat": 4,
  "nbformat_minor": 0,
  "metadata": {
    "colab": {
      "name": "Project_3_-_Handout-Hasan.ipynb",
      "provenance": [],
      "collapsed_sections": [],
      "include_colab_link": true
    },
    "kernelspec": {
      "display_name": "Python 3",
      "language": "python",
      "name": "python3"
    },
    "language_info": {
      "codemirror_mode": {
        "name": "ipython",
        "version": 3
      },
      "file_extension": ".py",
      "mimetype": "text/x-python",
      "name": "python",
      "nbconvert_exporter": "python",
      "pygments_lexer": "ipython3",
      "version": "3.7.3"
    }
  },
  "cells": [
    {
      "cell_type": "markdown",
      "metadata": {
        "id": "view-in-github",
        "colab_type": "text"
      },
      "source": [
        "<a href=\"https://colab.research.google.com/github/tifat58/MLCySecWS19/blob/master/Project_3___Handout_Alaeddine.ipynb\" target=\"_parent\"><img src=\"https://colab.research.google.com/assets/colab-badge.svg\" alt=\"Open In Colab\"/></a>"
      ]
    },
    {
      "cell_type": "markdown",
      "metadata": {
        "colab_type": "text",
        "id": "4NzyqehHjUlG"
      },
      "source": [
        "# ML in Cybersecurity: Project III\n",
        "\n",
        "## Team\n",
        "  * **Team name**:  *fill this in*\n",
        "  * **Members**:  *fill this in. format: Hasan Md Tusfiqur Alam (s8haalam@stud.uni-saarland.de), name2 (email2), ...*\n",
        "  * **Tutor**: *fill this in*\n",
        "\n",
        "\n",
        "## Logistics\n",
        "  * **Due date**: 12th December 2019, 13:59:59 \n",
        "  * Email the completed notebook to mlcysec_ws1920_staff@lists.cispa.saarland \n",
        "  * Complete this in the previously established **teams of 3**\n",
        "  * Feel free to use the course [mailing list](https://lists.cispa.saarland/listinfo/mlcysec_ws1920_stud) to discuss.\n",
        "  \n",
        "## Timeline\n",
        "  * 28-Nov-2019: Project 3 hand-out\n",
        "  * **12-Dec-2019** (13:59:59): Email completed notebook to mlcysec_ws1920_staff@lists.cispa.saarland\n",
        "\n",
        "  * 19-Dec-2019: Project 3 discussion and summary\n",
        "  \n",
        "  \n",
        "## About this Project\n",
        "In this project, we dive into the vulnerabilities of machine learning models and the difficulties of defending against them. To this end, we require you to implement an evasion attack (craft adversarial examples) yourselves, and defend your own model.   \n",
        "\n",
        "\n",
        "## A Note on Grading\n",
        "The total number of points in this project is 100. We further provide the number of points achievable with each excercise. You should take particular care to document and visualize your results, though.\n",
        "\n",
        "\n",
        " \n",
        "## Filling-in the Notebook\n",
        "You'll be submitting this very notebook that is filled-in with (all!) your code and analysis. Make sure you submit one that has been previously executed in-order. (So that results/graphs are already visible upon opening it). \n",
        "\n",
        "The notebook you submit **should compile** (or should be self-contained and sufficiently commented). Check tutorial 1 on how to set up the Python3 environment.\n",
        "\n",
        "It is extremely important that you **do not** re-order the existing sections. Apart from that, the code blocks that you need to fill-in are given by:\n",
        "```\n",
        "#\n",
        "#\n",
        "# ------- Your Code -------\n",
        "#\n",
        "#\n",
        "```\n",
        "Feel free to break this into multiple-cells. It's even better if you interleave explanations and code-blocks so that the entire notebook forms a readable \"story\".\n",
        "\n",
        "\n",
        "## Code of Honor\n",
        "We encourage discussing ideas and concepts with other students to help you learn and better understand the course content. However, the work you submit and present **must be original** and demonstrate your effort in solving the presented problems. **We will not tolerate** blatantly using existing solutions (such as from the internet), improper collaboration (e.g., sharing code or experimental data between groups) and plagiarism. If the honor code is not met, no points will be awarded.\n",
        "\n",
        " \n",
        " ## Versions\n",
        "  * v1.0: Initial notebook\n",
        "  * v1.1: Clarifications at 1.1.2, 1.2.2, 2.1\n",
        " \n",
        "  ---"
      ]
    },
    {
      "cell_type": "code",
      "metadata": {
        "id": "dQJ_wKu_FbXa",
        "colab_type": "code",
        "colab": {
          "base_uri": "https://localhost:8080/",
          "height": 129
        },
        "outputId": "bc23da64-4dc9-4917-eb5e-a1e7ad3ac197"
      },
      "source": [
        "from google.colab import drive\n",
        "drive.mount('/content/gdrive', force_remount=True)\n",
        "root_dir = \"/content/gdrive/My Drive/\"\n"
      ],
      "execution_count": 3,
      "outputs": [
        {
          "output_type": "stream",
          "text": [
            "Go to this URL in a browser: https://accounts.google.com/o/oauth2/auth?client_id=947318989803-6bn6qk8qdgf4n4g3pfee6491hc0brc4i.apps.googleusercontent.com&redirect_uri=urn%3aietf%3awg%3aoauth%3a2.0%3aoob&response_type=code&scope=email%20https%3a%2f%2fwww.googleapis.com%2fauth%2fdocs.test%20https%3a%2f%2fwww.googleapis.com%2fauth%2fdrive%20https%3a%2f%2fwww.googleapis.com%2fauth%2fdrive.photos.readonly%20https%3a%2f%2fwww.googleapis.com%2fauth%2fpeopleapi.readonly\n",
            "\n",
            "Enter your authorization code:\n",
            "··········\n",
            "Mounted at /content/gdrive\n"
          ],
          "name": "stdout"
        }
      ]
    },
    {
      "cell_type": "code",
      "metadata": {
        "colab_type": "code",
        "id": "3ewNwfFvbFaR",
        "colab": {}
      },
      "source": [
        "import time \n",
        " \n",
        "import numpy as np \n",
        "import matplotlib.pyplot as plt \n",
        "\n",
        "import json \n",
        "import time \n",
        "import pickle \n",
        "import sys \n",
        "import csv \n",
        "import os \n",
        "import os.path as osp \n",
        "import shutil \n",
        "\n",
        "import pandas as pd\n",
        "\n",
        "from IPython.display import display, HTML\n",
        " \n",
        "%matplotlib inline \n",
        "plt.rcParams['figure.figsize'] = (10.0, 8.0) # set default size of plots \n",
        "plt.rcParams['image.interpolation'] = 'nearest' \n",
        "plt.rcParams['image.cmap'] = 'gray' \n",
        " \n",
        "# for auto-reloading external modules \n",
        "# see http://stackoverflow.com/questions/1907993/autoreload-of-modules-in-ipython \n",
        "%load_ext autoreload\n",
        "%autoreload 2"
      ],
      "execution_count": 0,
      "outputs": []
    },
    {
      "cell_type": "code",
      "metadata": {
        "colab_type": "code",
        "id": "640GrzbOevr0",
        "colab": {}
      },
      "source": [
        "# Some suggestions of our libraries that might be helpful for this project\n",
        "from collections import Counter          # an even easier way to count\n",
        "from multiprocessing import Pool         # for multiprocessing\n",
        "from tqdm import tqdm                    # fancy progress bars\n",
        "\n",
        "# Load other libraries here.\n",
        "# Keep it minimal! We should be easily able to reproduce your code.\n",
        "# We only support sklearn and pytorch.\n",
        "import torchvision.datasets as datasets\n",
        "import torchvision.transforms as transforms\n",
        "import torch.utils.data as data\n",
        "\n",
        "# We preload pytorch as an example\n",
        "import torch\n",
        "import torch.nn as nn\n",
        "import torch.nn.functional as F\n",
        "import torch.optim as optim\n",
        "from torch.utils.data import DataLoader, Dataset, TensorDataset\n",
        "import torchvision"
      ],
      "execution_count": 0,
      "outputs": []
    },
    {
      "cell_type": "code",
      "metadata": {
        "colab_type": "code",
        "id": "GJZPEAWYMhYB",
        "colab": {}
      },
      "source": [
        "compute_mode = 'cpu'\n",
        "\n",
        "if compute_mode == 'cpu':\n",
        "    device = torch.device('cpu')\n",
        "elif compute_mode == 'gpu':\n",
        "    # If you are using pytorch on the GPU cluster, you have to manually specify which GPU device to use\n",
        "    # It is extremely important that you *do not* spawn multi-GPU jobs.\n",
        "    os.environ[\"CUDA_VISIBLE_DEVICES\"] = '0'    # Set device ID here\n",
        "    device = torch.device('cuda')\n",
        "else:\n",
        "    raise ValueError('Unrecognized compute mode')"
      ],
      "execution_count": 0,
      "outputs": []
    },
    {
      "cell_type": "markdown",
      "metadata": {
        "colab_type": "text",
        "id": "nxi-lLD0mKHD"
      },
      "source": [
        "#### Helpers\n",
        "\n",
        "In case you choose to have some methods you plan to reuse during the notebook, define them here. This will avoid clutter and keep rest of the notebook succinct."
      ]
    },
    {
      "cell_type": "code",
      "metadata": {
        "colab_type": "code",
        "id": "VBbigqdEmKd8",
        "colab": {}
      },
      "source": [
        "def identity_func(foo):\n",
        "    return foo\n",
        "\n",
        "#\n",
        "#\n",
        "# ------- Your Code -------\n",
        "#\n",
        "#"
      ],
      "execution_count": 0,
      "outputs": []
    },
    {
      "cell_type": "markdown",
      "metadata": {
        "colab_type": "text",
        "id": "n1pcmKkyjT7y"
      },
      "source": [
        "# 1. Attacking an ML-model\n",
        "\n",
        "In this section, we implement an attack ourselves. We then leverage the Foolbox library to craft adversarial examples. First, however, you need a model you can attack. Feel free to choose the DNN/ConvNN from project 1.\n",
        "\n",
        "Hint: you might want to save the trained model to save time later."
      ]
    },
    {
      "cell_type": "markdown",
      "metadata": {
        "colab_type": "text",
        "id": "QaJv_d_Dp7OM"
      },
      "source": [
        "### 1.1.1: Setting up the model (5 Points)\n",
        "\n",
        "Re-use the model from project 1 here and train it until it achieves reasonable accuracy (>92%)."
      ]
    },
    {
      "cell_type": "code",
      "metadata": {
        "colab_type": "code",
        "id": "c688qdGtO1v-",
        "colab": {}
      },
      "source": [
        "#\n",
        "#\n",
        "# ------- Your Code -------\n",
        "#\n",
        "#\n",
        "\n",
        "# (1)load data \n",
        "# (2)define model\n",
        "# (3)define loss, optimizer \n",
        "# (4)train\n",
        "# (5)evaluate\n",
        "# print('Epoch %d, Train acc: %f, Test acc: %f' % (epoch, train_acc, test_acc))"
      ],
      "execution_count": 0,
      "outputs": []
    },
    {
      "cell_type": "code",
      "metadata": {
        "id": "BR3qK428Cig8",
        "colab_type": "code",
        "colab": {
          "base_uri": "https://localhost:8080/",
          "height": 276
        },
        "outputId": "da98decb-c093-47d8-fa5e-230abe1fcd92"
      },
      "source": [
        "batch_size_train = 64 \n",
        "batch_size_test = 1000 \n",
        "n_epochs = 12\n",
        "learning_rate = 0.01\n",
        "momentum = 0.5\n",
        "\n",
        "train_loader = torch.utils.data.DataLoader(\n",
        "    torchvision.datasets.MNIST('data/mnist/', train=True, download=True,\n",
        "                              transform=torchvision.transforms.Compose([\n",
        "                                  torchvision.transforms.ToTensor()\n",
        "                              ])), batch_size=batch_size_train, shuffle=True)\n",
        "\n",
        "\n",
        "test_loader = torch.utils.data.DataLoader(\n",
        "    torchvision.datasets.MNIST('data/mnist/', train=False, download=True,\n",
        "                              transform=torchvision.transforms.Compose([\n",
        "                                  torchvision.transforms.ToTensor(),\n",
        "                              ])), batch_size=batch_size_test, shuffle=True)\n",
        "\n"
      ],
      "execution_count": 6,
      "outputs": [
        {
          "output_type": "stream",
          "text": [
            "\r0it [00:00, ?it/s]"
          ],
          "name": "stderr"
        },
        {
          "output_type": "stream",
          "text": [
            "Downloading http://yann.lecun.com/exdb/mnist/train-images-idx3-ubyte.gz to data/mnist/MNIST/raw/train-images-idx3-ubyte.gz\n"
          ],
          "name": "stdout"
        },
        {
          "output_type": "stream",
          "text": [
            "9920512it [00:01, 9341381.63it/s]                            \n"
          ],
          "name": "stderr"
        },
        {
          "output_type": "stream",
          "text": [
            "Extracting data/mnist/MNIST/raw/train-images-idx3-ubyte.gz to data/mnist/MNIST/raw\n"
          ],
          "name": "stdout"
        },
        {
          "output_type": "stream",
          "text": [
            "  0%|          | 0/28881 [00:00<?, ?it/s]"
          ],
          "name": "stderr"
        },
        {
          "output_type": "stream",
          "text": [
            "Downloading http://yann.lecun.com/exdb/mnist/train-labels-idx1-ubyte.gz to data/mnist/MNIST/raw/train-labels-idx1-ubyte.gz\n"
          ],
          "name": "stdout"
        },
        {
          "output_type": "stream",
          "text": [
            "32768it [00:00, 140997.30it/s]           \n",
            "  0%|          | 0/1648877 [00:00<?, ?it/s]"
          ],
          "name": "stderr"
        },
        {
          "output_type": "stream",
          "text": [
            "Extracting data/mnist/MNIST/raw/train-labels-idx1-ubyte.gz to data/mnist/MNIST/raw\n",
            "Downloading http://yann.lecun.com/exdb/mnist/t10k-images-idx3-ubyte.gz to data/mnist/MNIST/raw/t10k-images-idx3-ubyte.gz\n"
          ],
          "name": "stdout"
        },
        {
          "output_type": "stream",
          "text": [
            "1654784it [00:00, 2324779.75it/s]                            \n",
            "0it [00:00, ?it/s]"
          ],
          "name": "stderr"
        },
        {
          "output_type": "stream",
          "text": [
            "Extracting data/mnist/MNIST/raw/t10k-images-idx3-ubyte.gz to data/mnist/MNIST/raw\n",
            "Downloading http://yann.lecun.com/exdb/mnist/t10k-labels-idx1-ubyte.gz to data/mnist/MNIST/raw/t10k-labels-idx1-ubyte.gz\n"
          ],
          "name": "stdout"
        },
        {
          "output_type": "stream",
          "text": [
            "8192it [00:00, 50930.86it/s]            \n"
          ],
          "name": "stderr"
        },
        {
          "output_type": "stream",
          "text": [
            "Extracting data/mnist/MNIST/raw/t10k-labels-idx1-ubyte.gz to data/mnist/MNIST/raw\n",
            "Processing...\n",
            "Done!\n"
          ],
          "name": "stdout"
        }
      ]
    },
    {
      "cell_type": "code",
      "metadata": {
        "id": "Yf3uSS0ECihC",
        "colab_type": "code",
        "colab": {}
      },
      "source": [
        "class Net(nn.Module):\n",
        "\n",
        "    def __init__(self,kernels=5):\n",
        "        super(Net, self).__init__()\n",
        "        # 1 input image channel, 10 output channels, 5x5 square convolution\n",
        "        # kernel \n",
        "        self.conv1 = nn.Conv2d(1, 10, kernel_size=kernels)\n",
        "        self.conv2 = nn.Conv2d(10, 20, kernel_size=kernels)\n",
        "        self.conv2_drop = nn.Dropout2d()\n",
        "        self.fc1 = nn.Linear(320, 50)\n",
        "        self.fc2 = nn.Linear(50, 10)\n",
        "\n",
        "        \n",
        "    def forward(self, x):\n",
        "        x = F.relu(F.max_pool2d(self.conv1(x), 2))\n",
        "        x = F.relu(F.max_pool2d(self.conv2_drop(self.conv2(x)), 2))\n",
        "        x = x.view(-1, self.num_flat_features(x))\n",
        "        x = F.relu(self.fc1(x))\n",
        "        x = F.dropout(x, training=self.training)\n",
        "        x = self.fc2(x)\n",
        "        return x\n",
        "\n",
        "\n",
        "    def num_flat_features(self, x):\n",
        "        size = x.size()[1:]  # all dimensions except the batch dimension\n",
        "        num_features = 1\n",
        "        for s in size:\n",
        "            num_features *= s\n",
        "        return num_features"
      ],
      "execution_count": 0,
      "outputs": []
    },
    {
      "cell_type": "code",
      "metadata": {
        "id": "l0VEkjusCihI",
        "colab_type": "code",
        "colab": {}
      },
      "source": [
        "def train(n_epochs):\n",
        "    net.train()\n",
        "    for batch_idx, (data, target) in enumerate(train_loader):\n",
        "        optimizer.zero_grad()\n",
        "        output = F.log_softmax(net(data))\n",
        "        loss = F.nll_loss(output, target)\n",
        "        loss.backward()\n",
        "        optimizer.step()\n",
        "        if batch_idx % 100 == 0:\n",
        "            print('Train Epoch: {} [{}/{} ({:.0f}%)]\\tLoss: {:.6f}'.format(\n",
        "                epoch, batch_idx * len(data), len(train_loader.dataset), \n",
        "                100. * batch_idx / len(train_loader), loss.item()))\n",
        "\n",
        "            train_counter.append(\n",
        "                (batch_idx*64) + ((epoch-1)*len(train_loader.dataset)))\n",
        "            \n",
        "            torch.save(net.state_dict(), root_dir+'model_3.pth')\n",
        "    train_losses.append(loss.item()) "
      ],
      "execution_count": 0,
      "outputs": []
    },
    {
      "cell_type": "code",
      "metadata": {
        "id": "69fkMROHCihM",
        "colab_type": "code",
        "colab": {}
      },
      "source": [
        "def test():\n",
        "    net.eval()\n",
        "    test_loss = 0 \n",
        "    correct = 0 \n",
        "    with torch.no_grad():\n",
        "        for data, target in test_loader:\n",
        "            output = F.log_softmax(net(data))\n",
        "            test_loss += F.nll_loss(output, target, size_average=False).item()\n",
        "            pred = output.data.max(1, keepdim=True)[1]\n",
        "            correct += pred.eq(target.data.view_as(pred)).sum()\n",
        "            \n",
        "        test_loss /= len(test_loader.dataset)\n",
        "        test_losses.append(test_loss)\n",
        "        print('\\nTest set: Avg. loss: {:.4f}, Accuracy: {}/{} ({:.0f}%)\\n'.format(\n",
        "            test_loss, correct, len(test_loader.dataset), \n",
        "            100. * correct / len(test_loader.dataset)))"
      ],
      "execution_count": 0,
      "outputs": []
    },
    {
      "cell_type": "code",
      "metadata": {
        "id": "pDbJbh0NCihS",
        "colab_type": "code",
        "colab": {
          "base_uri": "https://localhost:8080/",
          "height": 1000
        },
        "outputId": "ab3ffa25-427e-43c8-f144-68a223a3d47e"
      },
      "source": [
        "train_losses = []\n",
        "train_counter = []\n",
        "test_losses = []\n",
        "train_accuracies = []\n",
        "test_accuracies = []\n",
        "test_counter = [i*len(train_loader.dataset) for i in range(n_epochs + 1)]\n",
        "net = Net()\n",
        "optimizer = optim.SGD(net.parameters(), lr= learning_rate, momentum=momentum)\n",
        "\n",
        "for epoch in range(1, n_epochs):\n",
        "    train(epoch)\n",
        "    test()"
      ],
      "execution_count": 117,
      "outputs": [
        {
          "output_type": "stream",
          "text": [
            "/usr/local/lib/python3.6/dist-packages/ipykernel_launcher.py:5: UserWarning: Implicit dimension choice for log_softmax has been deprecated. Change the call to include dim=X as an argument.\n",
            "  \"\"\"\n"
          ],
          "name": "stderr"
        },
        {
          "output_type": "stream",
          "text": [
            "Train Epoch: 1 [0/60000 (0%)]\tLoss: 2.338712\n",
            "Train Epoch: 1 [6400/60000 (11%)]\tLoss: 1.110489\n",
            "Train Epoch: 1 [12800/60000 (21%)]\tLoss: 0.718753\n",
            "Train Epoch: 1 [19200/60000 (32%)]\tLoss: 0.500384\n",
            "Train Epoch: 1 [25600/60000 (43%)]\tLoss: 0.428305\n",
            "Train Epoch: 1 [32000/60000 (53%)]\tLoss: 0.336347\n",
            "Train Epoch: 1 [38400/60000 (64%)]\tLoss: 0.229679\n",
            "Train Epoch: 1 [44800/60000 (75%)]\tLoss: 0.289542\n",
            "Train Epoch: 1 [51200/60000 (85%)]\tLoss: 0.282697\n",
            "Train Epoch: 1 [57600/60000 (96%)]\tLoss: 0.208202\n"
          ],
          "name": "stdout"
        },
        {
          "output_type": "stream",
          "text": [
            "/usr/local/lib/python3.6/dist-packages/ipykernel_launcher.py:7: UserWarning: Implicit dimension choice for log_softmax has been deprecated. Change the call to include dim=X as an argument.\n",
            "  import sys\n",
            "/usr/local/lib/python3.6/dist-packages/torch/nn/_reduction.py:43: UserWarning: size_average and reduce args will be deprecated, please use reduction='sum' instead.\n",
            "  warnings.warn(warning.format(ret))\n"
          ],
          "name": "stderr"
        },
        {
          "output_type": "stream",
          "text": [
            "\n",
            "Test set: Avg. loss: 0.1055, Accuracy: 9676/10000 (97%)\n",
            "\n",
            "Train Epoch: 2 [0/60000 (0%)]\tLoss: 0.417126\n",
            "Train Epoch: 2 [6400/60000 (11%)]\tLoss: 0.187608\n",
            "Train Epoch: 2 [12800/60000 (21%)]\tLoss: 0.278032\n",
            "Train Epoch: 2 [19200/60000 (32%)]\tLoss: 0.195736\n",
            "Train Epoch: 2 [25600/60000 (43%)]\tLoss: 0.207264\n",
            "Train Epoch: 2 [32000/60000 (53%)]\tLoss: 0.297065\n",
            "Train Epoch: 2 [38400/60000 (64%)]\tLoss: 0.252148\n",
            "Train Epoch: 2 [44800/60000 (75%)]\tLoss: 0.596994\n",
            "Train Epoch: 2 [51200/60000 (85%)]\tLoss: 0.240377\n",
            "Train Epoch: 2 [57600/60000 (96%)]\tLoss: 0.153436\n",
            "\n",
            "Test set: Avg. loss: 0.0775, Accuracy: 9761/10000 (98%)\n",
            "\n",
            "Train Epoch: 3 [0/60000 (0%)]\tLoss: 0.438237\n",
            "Train Epoch: 3 [6400/60000 (11%)]\tLoss: 0.139910\n",
            "Train Epoch: 3 [12800/60000 (21%)]\tLoss: 0.260608\n",
            "Train Epoch: 3 [19200/60000 (32%)]\tLoss: 0.207981\n",
            "Train Epoch: 3 [25600/60000 (43%)]\tLoss: 0.210196\n",
            "Train Epoch: 3 [32000/60000 (53%)]\tLoss: 0.074755\n",
            "Train Epoch: 3 [38400/60000 (64%)]\tLoss: 0.186385\n",
            "Train Epoch: 3 [44800/60000 (75%)]\tLoss: 0.323080\n",
            "Train Epoch: 3 [51200/60000 (85%)]\tLoss: 0.586373\n",
            "Train Epoch: 3 [57600/60000 (96%)]\tLoss: 0.386108\n",
            "\n",
            "Test set: Avg. loss: 0.0718, Accuracy: 9783/10000 (98%)\n",
            "\n",
            "Train Epoch: 4 [0/60000 (0%)]\tLoss: 0.094117\n",
            "Train Epoch: 4 [6400/60000 (11%)]\tLoss: 0.124015\n",
            "Train Epoch: 4 [12800/60000 (21%)]\tLoss: 0.357860\n",
            "Train Epoch: 4 [19200/60000 (32%)]\tLoss: 0.153362\n",
            "Train Epoch: 4 [25600/60000 (43%)]\tLoss: 0.116706\n",
            "Train Epoch: 4 [32000/60000 (53%)]\tLoss: 0.114194\n",
            "Train Epoch: 4 [38400/60000 (64%)]\tLoss: 0.044230\n",
            "Train Epoch: 4 [44800/60000 (75%)]\tLoss: 0.154964\n",
            "Train Epoch: 4 [51200/60000 (85%)]\tLoss: 0.132692\n",
            "Train Epoch: 4 [57600/60000 (96%)]\tLoss: 0.221143\n",
            "\n",
            "Test set: Avg. loss: 0.0547, Accuracy: 9829/10000 (98%)\n",
            "\n",
            "Train Epoch: 5 [0/60000 (0%)]\tLoss: 0.097131\n",
            "Train Epoch: 5 [6400/60000 (11%)]\tLoss: 0.189940\n",
            "Train Epoch: 5 [12800/60000 (21%)]\tLoss: 0.279239\n"
          ],
          "name": "stdout"
        },
        {
          "output_type": "error",
          "ename": "KeyboardInterrupt",
          "evalue": "ignored",
          "traceback": [
            "\u001b[0;31m---------------------------------------------------------------------------\u001b[0m",
            "\u001b[0;31mKeyboardInterrupt\u001b[0m                         Traceback (most recent call last)",
            "\u001b[0;32m<ipython-input-117-31cfd0e3618d>\u001b[0m in \u001b[0;36m<module>\u001b[0;34m()\u001b[0m\n\u001b[1;32m      9\u001b[0m \u001b[0;34m\u001b[0m\u001b[0m\n\u001b[1;32m     10\u001b[0m \u001b[0;32mfor\u001b[0m \u001b[0mepoch\u001b[0m \u001b[0;32min\u001b[0m \u001b[0mrange\u001b[0m\u001b[0;34m(\u001b[0m\u001b[0;36m1\u001b[0m\u001b[0;34m,\u001b[0m \u001b[0mn_epochs\u001b[0m\u001b[0;34m)\u001b[0m\u001b[0;34m:\u001b[0m\u001b[0;34m\u001b[0m\u001b[0;34m\u001b[0m\u001b[0m\n\u001b[0;32m---> 11\u001b[0;31m     \u001b[0mtrain\u001b[0m\u001b[0;34m(\u001b[0m\u001b[0mepoch\u001b[0m\u001b[0;34m)\u001b[0m\u001b[0;34m\u001b[0m\u001b[0;34m\u001b[0m\u001b[0m\n\u001b[0m\u001b[1;32m     12\u001b[0m     \u001b[0mtest\u001b[0m\u001b[0;34m(\u001b[0m\u001b[0;34m)\u001b[0m\u001b[0;34m\u001b[0m\u001b[0;34m\u001b[0m\u001b[0m\n",
            "\u001b[0;32m<ipython-input-115-90f83ceb57ff>\u001b[0m in \u001b[0;36mtrain\u001b[0;34m(n_epochs)\u001b[0m\n\u001b[1;32m      5\u001b[0m         \u001b[0moutput\u001b[0m \u001b[0;34m=\u001b[0m \u001b[0mF\u001b[0m\u001b[0;34m.\u001b[0m\u001b[0mlog_softmax\u001b[0m\u001b[0;34m(\u001b[0m\u001b[0mnet\u001b[0m\u001b[0;34m(\u001b[0m\u001b[0mdata\u001b[0m\u001b[0;34m)\u001b[0m\u001b[0;34m)\u001b[0m\u001b[0;34m\u001b[0m\u001b[0;34m\u001b[0m\u001b[0m\n\u001b[1;32m      6\u001b[0m         \u001b[0mloss\u001b[0m \u001b[0;34m=\u001b[0m \u001b[0mF\u001b[0m\u001b[0;34m.\u001b[0m\u001b[0mnll_loss\u001b[0m\u001b[0;34m(\u001b[0m\u001b[0moutput\u001b[0m\u001b[0;34m,\u001b[0m \u001b[0mtarget\u001b[0m\u001b[0;34m)\u001b[0m\u001b[0;34m\u001b[0m\u001b[0;34m\u001b[0m\u001b[0m\n\u001b[0;32m----> 7\u001b[0;31m         \u001b[0mloss\u001b[0m\u001b[0;34m.\u001b[0m\u001b[0mbackward\u001b[0m\u001b[0;34m(\u001b[0m\u001b[0;34m)\u001b[0m\u001b[0;34m\u001b[0m\u001b[0;34m\u001b[0m\u001b[0m\n\u001b[0m\u001b[1;32m      8\u001b[0m         \u001b[0moptimizer\u001b[0m\u001b[0;34m.\u001b[0m\u001b[0mstep\u001b[0m\u001b[0;34m(\u001b[0m\u001b[0;34m)\u001b[0m\u001b[0;34m\u001b[0m\u001b[0;34m\u001b[0m\u001b[0m\n\u001b[1;32m      9\u001b[0m         \u001b[0;32mif\u001b[0m \u001b[0mbatch_idx\u001b[0m \u001b[0;34m%\u001b[0m \u001b[0;36m100\u001b[0m \u001b[0;34m==\u001b[0m \u001b[0;36m0\u001b[0m\u001b[0;34m:\u001b[0m\u001b[0;34m\u001b[0m\u001b[0;34m\u001b[0m\u001b[0m\n",
            "\u001b[0;32m/usr/local/lib/python3.6/dist-packages/torch/tensor.py\u001b[0m in \u001b[0;36mbackward\u001b[0;34m(self, gradient, retain_graph, create_graph)\u001b[0m\n\u001b[1;32m    164\u001b[0m                 \u001b[0mproducts\u001b[0m\u001b[0;34m.\u001b[0m \u001b[0mDefaults\u001b[0m \u001b[0mto\u001b[0m\u001b[0;31m \u001b[0m\u001b[0;31m`\u001b[0m\u001b[0;31m`\u001b[0m\u001b[0;32mFalse\u001b[0m\u001b[0;31m`\u001b[0m\u001b[0;31m`\u001b[0m\u001b[0;34m.\u001b[0m\u001b[0;34m\u001b[0m\u001b[0;34m\u001b[0m\u001b[0m\n\u001b[1;32m    165\u001b[0m         \"\"\"\n\u001b[0;32m--> 166\u001b[0;31m         \u001b[0mtorch\u001b[0m\u001b[0;34m.\u001b[0m\u001b[0mautograd\u001b[0m\u001b[0;34m.\u001b[0m\u001b[0mbackward\u001b[0m\u001b[0;34m(\u001b[0m\u001b[0mself\u001b[0m\u001b[0;34m,\u001b[0m \u001b[0mgradient\u001b[0m\u001b[0;34m,\u001b[0m \u001b[0mretain_graph\u001b[0m\u001b[0;34m,\u001b[0m \u001b[0mcreate_graph\u001b[0m\u001b[0;34m)\u001b[0m\u001b[0;34m\u001b[0m\u001b[0;34m\u001b[0m\u001b[0m\n\u001b[0m\u001b[1;32m    167\u001b[0m \u001b[0;34m\u001b[0m\u001b[0m\n\u001b[1;32m    168\u001b[0m     \u001b[0;32mdef\u001b[0m \u001b[0mregister_hook\u001b[0m\u001b[0;34m(\u001b[0m\u001b[0mself\u001b[0m\u001b[0;34m,\u001b[0m \u001b[0mhook\u001b[0m\u001b[0;34m)\u001b[0m\u001b[0;34m:\u001b[0m\u001b[0;34m\u001b[0m\u001b[0;34m\u001b[0m\u001b[0m\n",
            "\u001b[0;32m/usr/local/lib/python3.6/dist-packages/torch/autograd/__init__.py\u001b[0m in \u001b[0;36mbackward\u001b[0;34m(tensors, grad_tensors, retain_graph, create_graph, grad_variables)\u001b[0m\n\u001b[1;32m     97\u001b[0m     Variable._execution_engine.run_backward(\n\u001b[1;32m     98\u001b[0m         \u001b[0mtensors\u001b[0m\u001b[0;34m,\u001b[0m \u001b[0mgrad_tensors\u001b[0m\u001b[0;34m,\u001b[0m \u001b[0mretain_graph\u001b[0m\u001b[0;34m,\u001b[0m \u001b[0mcreate_graph\u001b[0m\u001b[0;34m,\u001b[0m\u001b[0;34m\u001b[0m\u001b[0;34m\u001b[0m\u001b[0m\n\u001b[0;32m---> 99\u001b[0;31m         allow_unreachable=True)  # allow_unreachable flag\n\u001b[0m\u001b[1;32m    100\u001b[0m \u001b[0;34m\u001b[0m\u001b[0m\n\u001b[1;32m    101\u001b[0m \u001b[0;34m\u001b[0m\u001b[0m\n",
            "\u001b[0;31mKeyboardInterrupt\u001b[0m: "
          ]
        }
      ]
    },
    {
      "cell_type": "code",
      "metadata": {
        "id": "p4vHkz9KCihZ",
        "colab_type": "code",
        "colab": {}
      },
      "source": [
        "# net.save_state_dict('best_model.pt')\n",
        "torch.save(net.state_dict(), root_dir+'best_modell.pt')"
      ],
      "execution_count": 0,
      "outputs": []
    },
    {
      "cell_type": "markdown",
      "metadata": {
        "colab_type": "text",
        "id": "DEQrdyLHsUIu"
      },
      "source": [
        "### 1.1.2: Implementing an attack (15 Points)\n",
        "\n",
        "We now want you to attack the model trained in the previous step. Please implement the FGSM attack mentioned in the lecture. "
      ]
    },
    {
      "cell_type": "code",
      "metadata": {
        "colab_type": "code",
        "id": "gcVZnUNbRKOz",
        "colab": {}
      },
      "source": [
        "def fgsm_attack(image, epsilon, data_grad):\n",
        "    # Collect the element-wise sign of the data gradient\n",
        "    sign_data_grad = data_grad.sign()\n",
        "    # Create the perturbed image by adjusting each pixel of the input image\n",
        "    perturbed_image = image + epsilon*sign_data_grad\n",
        "    # Adding clipping to maintain [0,1] range\n",
        "    perturbed_image = torch.clamp(perturbed_image, 0, 1)\n",
        "    # Return the perturbed image\n",
        "    return perturbed_image"
      ],
      "execution_count": 0,
      "outputs": []
    },
    {
      "cell_type": "code",
      "metadata": {
        "id": "PUOkROW8Cihi",
        "colab_type": "code",
        "colab": {}
      },
      "source": [
        "def test_fgsm( model, device, test_loader, epsilon ):\n",
        "\n",
        "    # Accuracy counter\n",
        "    correct = 0\n",
        "    adv_examples = []\n",
        "\n",
        "    # Loop over all examples in test set\n",
        "    for data, target in test_loader:\n",
        "\n",
        "        # Send the data and label to the device\n",
        "        data, target = data.to(device), target.to(device)\n",
        "\n",
        "        # Set requires_grad attribute of tensor. Important for Attack\n",
        "        data.requires_grad = True\n",
        "\n",
        "        # Forward pass the data through the model\n",
        "        output = model(data)\n",
        "        init_pred = output.max(1, keepdim=True)[1] # get the index of the max log-probability\n",
        "\n",
        "        # If the initial prediction is wrong, dont bother attacking, just move on\n",
        "        if init_pred.item() != target.item():\n",
        "            continue\n",
        "\n",
        "        # Calculate the loss\n",
        "        loss = F.nll_loss(output, target)\n",
        "\n",
        "        # Zero all existing gradients\n",
        "        model.zero_grad()\n",
        "\n",
        "        # Calculate gradients of model in backward pass\n",
        "        loss.backward()\n",
        "\n",
        "        # Collect datagrad\n",
        "        data_grad = data.grad.data\n",
        "\n",
        "        # Call FGSM Attack\n",
        "        perturbed_data = fgsm_attack(data, epsilon, data_grad)\n",
        "\n",
        "        # Re-classify the perturbed image\n",
        "        output = model(perturbed_data)\n",
        "\n",
        "        # Check for success\n",
        "        final_pred = output.max(1, keepdim=True)[1] # get the index of the max log-probability\n",
        "        if final_pred.item() == target.item():\n",
        "            correct += 1\n",
        "            # Special case for saving 0 epsilon examples\n",
        "            if (epsilon == 0) and (len(adv_examples) < 1000):\n",
        "                adv_ex = perturbed_data\n",
        "                adv_examples.append( (init_pred.item(), final_pred.item(),target, adv_ex) )\n",
        "        else:\n",
        "            # Save some adv examples for visualization later\n",
        "            if len(adv_examples) < 1000:\n",
        "                adv_ex = perturbed_data\n",
        "                adv_examples.append( (init_pred.item(), final_pred.item(), target, adv_ex) )\n",
        "\n",
        "    # Calculate final accuracy for this epsilon\n",
        "    final_acc = correct/float(len(test_loader))\n",
        "    print(\"Epsilon: {}\\tTest Accuracy = {} / {} = {}\".format(epsilon, correct, len(test_loader), final_acc))\n",
        "\n",
        "    # Return the accuracy and an adversarial example\n",
        "    return final_acc, adv_examples"
      ],
      "execution_count": 0,
      "outputs": []
    },
    {
      "cell_type": "code",
      "metadata": {
        "id": "fnCO5NjyCihn",
        "colab_type": "code",
        "colab": {
          "base_uri": "https://localhost:8080/",
          "height": 35
        },
        "outputId": "3df066b1-3917-4670-c047-6a2ce9456939"
      },
      "source": [
        "model = Net()\n",
        "model.load_state_dict(torch.load(root_dir+'best_model.pt'), strict=False)"
      ],
      "execution_count": 71,
      "outputs": [
        {
          "output_type": "execute_result",
          "data": {
            "text/plain": [
              "<All keys matched successfully>"
            ]
          },
          "metadata": {
            "tags": []
          },
          "execution_count": 71
        }
      ]
    },
    {
      "cell_type": "code",
      "metadata": {
        "id": "bVYYg9njCihs",
        "colab_type": "code",
        "colab": {}
      },
      "source": [
        "test_loader = torch.utils.data.DataLoader(\n",
        "    torchvision.datasets.MNIST('data/mnist/', train=False, download=True,\n",
        "                              transform=torchvision.transforms.Compose([\n",
        "                                  torchvision.transforms.ToTensor(),\n",
        "                              ])), batch_size=1, shuffle=False)\n"
      ],
      "execution_count": 0,
      "outputs": []
    },
    {
      "cell_type": "code",
      "metadata": {
        "id": "rFbMJRfqCihw",
        "colab_type": "code",
        "colab": {
          "base_uri": "https://localhost:8080/",
          "height": 419
        },
        "outputId": "881a00f9-fc66-4aa5-e354-acffb871b116"
      },
      "source": [
        "\n",
        "epsilons = [0, .05, .1, .15, .2, .25, .3, .4, .5]\n",
        "accuracies = []\n",
        "examples = []\n",
        "\n",
        "# Run test for each epsilon\n",
        "for eps in epsilons:\n",
        "    acc, ex = test_fgsm(model, device, test_loader, eps)\n",
        "    accuracies.append(acc)\n",
        "    examples.append(ex)"
      ],
      "execution_count": 72,
      "outputs": [
        {
          "output_type": "stream",
          "text": [
            "Epsilon: 0\tTest Accuracy = 321 / 10000 = 0.0321\n"
          ],
          "name": "stdout"
        },
        {
          "output_type": "error",
          "ename": "KeyboardInterrupt",
          "evalue": "ignored",
          "traceback": [
            "\u001b[0;31m---------------------------------------------------------------------------\u001b[0m",
            "\u001b[0;31mKeyboardInterrupt\u001b[0m                         Traceback (most recent call last)",
            "\u001b[0;32m<ipython-input-72-c1e8fcc5baaa>\u001b[0m in \u001b[0;36m<module>\u001b[0;34m()\u001b[0m\n\u001b[1;32m      6\u001b[0m \u001b[0;31m# Run test for each epsilon\u001b[0m\u001b[0;34m\u001b[0m\u001b[0;34m\u001b[0m\u001b[0;34m\u001b[0m\u001b[0m\n\u001b[1;32m      7\u001b[0m \u001b[0;32mfor\u001b[0m \u001b[0meps\u001b[0m \u001b[0;32min\u001b[0m \u001b[0mepsilons\u001b[0m\u001b[0;34m:\u001b[0m\u001b[0;34m\u001b[0m\u001b[0;34m\u001b[0m\u001b[0m\n\u001b[0;32m----> 8\u001b[0;31m     \u001b[0macc\u001b[0m\u001b[0;34m,\u001b[0m \u001b[0mex\u001b[0m \u001b[0;34m=\u001b[0m \u001b[0mtest_fgsm\u001b[0m\u001b[0;34m(\u001b[0m\u001b[0mmodel\u001b[0m\u001b[0;34m,\u001b[0m \u001b[0mdevice\u001b[0m\u001b[0;34m,\u001b[0m \u001b[0mtest_loader\u001b[0m\u001b[0;34m,\u001b[0m \u001b[0meps\u001b[0m\u001b[0;34m)\u001b[0m\u001b[0;34m\u001b[0m\u001b[0;34m\u001b[0m\u001b[0m\n\u001b[0m\u001b[1;32m      9\u001b[0m     \u001b[0maccuracies\u001b[0m\u001b[0;34m.\u001b[0m\u001b[0mappend\u001b[0m\u001b[0;34m(\u001b[0m\u001b[0macc\u001b[0m\u001b[0;34m)\u001b[0m\u001b[0;34m\u001b[0m\u001b[0;34m\u001b[0m\u001b[0m\n\u001b[1;32m     10\u001b[0m     \u001b[0mexamples\u001b[0m\u001b[0;34m.\u001b[0m\u001b[0mappend\u001b[0m\u001b[0;34m(\u001b[0m\u001b[0mex\u001b[0m\u001b[0;34m)\u001b[0m\u001b[0;34m\u001b[0m\u001b[0;34m\u001b[0m\u001b[0m\n",
            "\u001b[0;32m<ipython-input-68-70d0b8ee97e4>\u001b[0m in \u001b[0;36mtest_fgsm\u001b[0;34m(model, device, test_loader, epsilon)\u001b[0m\n\u001b[1;32m      6\u001b[0m \u001b[0;34m\u001b[0m\u001b[0m\n\u001b[1;32m      7\u001b[0m     \u001b[0;31m# Loop over all examples in test set\u001b[0m\u001b[0;34m\u001b[0m\u001b[0;34m\u001b[0m\u001b[0;34m\u001b[0m\u001b[0m\n\u001b[0;32m----> 8\u001b[0;31m     \u001b[0;32mfor\u001b[0m \u001b[0mdata\u001b[0m\u001b[0;34m,\u001b[0m \u001b[0mtarget\u001b[0m \u001b[0;32min\u001b[0m \u001b[0mtest_loader\u001b[0m\u001b[0;34m:\u001b[0m\u001b[0;34m\u001b[0m\u001b[0;34m\u001b[0m\u001b[0m\n\u001b[0m\u001b[1;32m      9\u001b[0m \u001b[0;34m\u001b[0m\u001b[0m\n\u001b[1;32m     10\u001b[0m         \u001b[0;31m# Send the data and label to the device\u001b[0m\u001b[0;34m\u001b[0m\u001b[0;34m\u001b[0m\u001b[0;34m\u001b[0m\u001b[0m\n",
            "\u001b[0;32m/usr/local/lib/python3.6/dist-packages/torch/utils/data/dataloader.py\u001b[0m in \u001b[0;36m__next__\u001b[0;34m(self)\u001b[0m\n\u001b[1;32m    344\u001b[0m     \u001b[0;32mdef\u001b[0m \u001b[0m__next__\u001b[0m\u001b[0;34m(\u001b[0m\u001b[0mself\u001b[0m\u001b[0;34m)\u001b[0m\u001b[0;34m:\u001b[0m\u001b[0;34m\u001b[0m\u001b[0;34m\u001b[0m\u001b[0m\n\u001b[1;32m    345\u001b[0m         \u001b[0mindex\u001b[0m \u001b[0;34m=\u001b[0m \u001b[0mself\u001b[0m\u001b[0;34m.\u001b[0m\u001b[0m_next_index\u001b[0m\u001b[0;34m(\u001b[0m\u001b[0;34m)\u001b[0m  \u001b[0;31m# may raise StopIteration\u001b[0m\u001b[0;34m\u001b[0m\u001b[0;34m\u001b[0m\u001b[0m\n\u001b[0;32m--> 346\u001b[0;31m         \u001b[0mdata\u001b[0m \u001b[0;34m=\u001b[0m \u001b[0mself\u001b[0m\u001b[0;34m.\u001b[0m\u001b[0m_dataset_fetcher\u001b[0m\u001b[0;34m.\u001b[0m\u001b[0mfetch\u001b[0m\u001b[0;34m(\u001b[0m\u001b[0mindex\u001b[0m\u001b[0;34m)\u001b[0m  \u001b[0;31m# may raise StopIteration\u001b[0m\u001b[0;34m\u001b[0m\u001b[0;34m\u001b[0m\u001b[0m\n\u001b[0m\u001b[1;32m    347\u001b[0m         \u001b[0;32mif\u001b[0m \u001b[0mself\u001b[0m\u001b[0;34m.\u001b[0m\u001b[0m_pin_memory\u001b[0m\u001b[0;34m:\u001b[0m\u001b[0;34m\u001b[0m\u001b[0;34m\u001b[0m\u001b[0m\n\u001b[1;32m    348\u001b[0m             \u001b[0mdata\u001b[0m \u001b[0;34m=\u001b[0m \u001b[0m_utils\u001b[0m\u001b[0;34m.\u001b[0m\u001b[0mpin_memory\u001b[0m\u001b[0;34m.\u001b[0m\u001b[0mpin_memory\u001b[0m\u001b[0;34m(\u001b[0m\u001b[0mdata\u001b[0m\u001b[0;34m)\u001b[0m\u001b[0;34m\u001b[0m\u001b[0;34m\u001b[0m\u001b[0m\n",
            "\u001b[0;32m/usr/local/lib/python3.6/dist-packages/torch/utils/data/_utils/fetch.py\u001b[0m in \u001b[0;36mfetch\u001b[0;34m(self, possibly_batched_index)\u001b[0m\n\u001b[1;32m     42\u001b[0m     \u001b[0;32mdef\u001b[0m \u001b[0mfetch\u001b[0m\u001b[0;34m(\u001b[0m\u001b[0mself\u001b[0m\u001b[0;34m,\u001b[0m \u001b[0mpossibly_batched_index\u001b[0m\u001b[0;34m)\u001b[0m\u001b[0;34m:\u001b[0m\u001b[0;34m\u001b[0m\u001b[0;34m\u001b[0m\u001b[0m\n\u001b[1;32m     43\u001b[0m         \u001b[0;32mif\u001b[0m \u001b[0mself\u001b[0m\u001b[0;34m.\u001b[0m\u001b[0mauto_collation\u001b[0m\u001b[0;34m:\u001b[0m\u001b[0;34m\u001b[0m\u001b[0;34m\u001b[0m\u001b[0m\n\u001b[0;32m---> 44\u001b[0;31m             \u001b[0mdata\u001b[0m \u001b[0;34m=\u001b[0m \u001b[0;34m[\u001b[0m\u001b[0mself\u001b[0m\u001b[0;34m.\u001b[0m\u001b[0mdataset\u001b[0m\u001b[0;34m[\u001b[0m\u001b[0midx\u001b[0m\u001b[0;34m]\u001b[0m \u001b[0;32mfor\u001b[0m \u001b[0midx\u001b[0m \u001b[0;32min\u001b[0m \u001b[0mpossibly_batched_index\u001b[0m\u001b[0;34m]\u001b[0m\u001b[0;34m\u001b[0m\u001b[0;34m\u001b[0m\u001b[0m\n\u001b[0m\u001b[1;32m     45\u001b[0m         \u001b[0;32melse\u001b[0m\u001b[0;34m:\u001b[0m\u001b[0;34m\u001b[0m\u001b[0;34m\u001b[0m\u001b[0m\n\u001b[1;32m     46\u001b[0m             \u001b[0mdata\u001b[0m \u001b[0;34m=\u001b[0m \u001b[0mself\u001b[0m\u001b[0;34m.\u001b[0m\u001b[0mdataset\u001b[0m\u001b[0;34m[\u001b[0m\u001b[0mpossibly_batched_index\u001b[0m\u001b[0;34m]\u001b[0m\u001b[0;34m\u001b[0m\u001b[0;34m\u001b[0m\u001b[0m\n",
            "\u001b[0;32m/usr/local/lib/python3.6/dist-packages/torch/utils/data/_utils/fetch.py\u001b[0m in \u001b[0;36m<listcomp>\u001b[0;34m(.0)\u001b[0m\n\u001b[1;32m     42\u001b[0m     \u001b[0;32mdef\u001b[0m \u001b[0mfetch\u001b[0m\u001b[0;34m(\u001b[0m\u001b[0mself\u001b[0m\u001b[0;34m,\u001b[0m \u001b[0mpossibly_batched_index\u001b[0m\u001b[0;34m)\u001b[0m\u001b[0;34m:\u001b[0m\u001b[0;34m\u001b[0m\u001b[0;34m\u001b[0m\u001b[0m\n\u001b[1;32m     43\u001b[0m         \u001b[0;32mif\u001b[0m \u001b[0mself\u001b[0m\u001b[0;34m.\u001b[0m\u001b[0mauto_collation\u001b[0m\u001b[0;34m:\u001b[0m\u001b[0;34m\u001b[0m\u001b[0;34m\u001b[0m\u001b[0m\n\u001b[0;32m---> 44\u001b[0;31m             \u001b[0mdata\u001b[0m \u001b[0;34m=\u001b[0m \u001b[0;34m[\u001b[0m\u001b[0mself\u001b[0m\u001b[0;34m.\u001b[0m\u001b[0mdataset\u001b[0m\u001b[0;34m[\u001b[0m\u001b[0midx\u001b[0m\u001b[0;34m]\u001b[0m \u001b[0;32mfor\u001b[0m \u001b[0midx\u001b[0m \u001b[0;32min\u001b[0m \u001b[0mpossibly_batched_index\u001b[0m\u001b[0;34m]\u001b[0m\u001b[0;34m\u001b[0m\u001b[0;34m\u001b[0m\u001b[0m\n\u001b[0m\u001b[1;32m     45\u001b[0m         \u001b[0;32melse\u001b[0m\u001b[0;34m:\u001b[0m\u001b[0;34m\u001b[0m\u001b[0;34m\u001b[0m\u001b[0m\n\u001b[1;32m     46\u001b[0m             \u001b[0mdata\u001b[0m \u001b[0;34m=\u001b[0m \u001b[0mself\u001b[0m\u001b[0;34m.\u001b[0m\u001b[0mdataset\u001b[0m\u001b[0;34m[\u001b[0m\u001b[0mpossibly_batched_index\u001b[0m\u001b[0;34m]\u001b[0m\u001b[0;34m\u001b[0m\u001b[0;34m\u001b[0m\u001b[0m\n",
            "\u001b[0;32m/usr/local/lib/python3.6/dist-packages/torchvision/datasets/mnist.py\u001b[0m in \u001b[0;36m__getitem__\u001b[0;34m(self, index)\u001b[0m\n\u001b[1;32m     93\u001b[0m \u001b[0;34m\u001b[0m\u001b[0m\n\u001b[1;32m     94\u001b[0m         \u001b[0;32mif\u001b[0m \u001b[0mself\u001b[0m\u001b[0;34m.\u001b[0m\u001b[0mtransform\u001b[0m \u001b[0;32mis\u001b[0m \u001b[0;32mnot\u001b[0m \u001b[0;32mNone\u001b[0m\u001b[0;34m:\u001b[0m\u001b[0;34m\u001b[0m\u001b[0;34m\u001b[0m\u001b[0m\n\u001b[0;32m---> 95\u001b[0;31m             \u001b[0mimg\u001b[0m \u001b[0;34m=\u001b[0m \u001b[0mself\u001b[0m\u001b[0;34m.\u001b[0m\u001b[0mtransform\u001b[0m\u001b[0;34m(\u001b[0m\u001b[0mimg\u001b[0m\u001b[0;34m)\u001b[0m\u001b[0;34m\u001b[0m\u001b[0;34m\u001b[0m\u001b[0m\n\u001b[0m\u001b[1;32m     96\u001b[0m \u001b[0;34m\u001b[0m\u001b[0m\n\u001b[1;32m     97\u001b[0m         \u001b[0;32mif\u001b[0m \u001b[0mself\u001b[0m\u001b[0;34m.\u001b[0m\u001b[0mtarget_transform\u001b[0m \u001b[0;32mis\u001b[0m \u001b[0;32mnot\u001b[0m \u001b[0;32mNone\u001b[0m\u001b[0;34m:\u001b[0m\u001b[0;34m\u001b[0m\u001b[0;34m\u001b[0m\u001b[0m\n",
            "\u001b[0;32m/usr/local/lib/python3.6/dist-packages/torchvision/transforms/transforms.py\u001b[0m in \u001b[0;36m__call__\u001b[0;34m(self, img)\u001b[0m\n\u001b[1;32m     68\u001b[0m     \u001b[0;32mdef\u001b[0m \u001b[0m__call__\u001b[0m\u001b[0;34m(\u001b[0m\u001b[0mself\u001b[0m\u001b[0;34m,\u001b[0m \u001b[0mimg\u001b[0m\u001b[0;34m)\u001b[0m\u001b[0;34m:\u001b[0m\u001b[0;34m\u001b[0m\u001b[0;34m\u001b[0m\u001b[0m\n\u001b[1;32m     69\u001b[0m         \u001b[0;32mfor\u001b[0m \u001b[0mt\u001b[0m \u001b[0;32min\u001b[0m \u001b[0mself\u001b[0m\u001b[0;34m.\u001b[0m\u001b[0mtransforms\u001b[0m\u001b[0;34m:\u001b[0m\u001b[0;34m\u001b[0m\u001b[0;34m\u001b[0m\u001b[0m\n\u001b[0;32m---> 70\u001b[0;31m             \u001b[0mimg\u001b[0m \u001b[0;34m=\u001b[0m \u001b[0mt\u001b[0m\u001b[0;34m(\u001b[0m\u001b[0mimg\u001b[0m\u001b[0;34m)\u001b[0m\u001b[0;34m\u001b[0m\u001b[0;34m\u001b[0m\u001b[0m\n\u001b[0m\u001b[1;32m     71\u001b[0m         \u001b[0;32mreturn\u001b[0m \u001b[0mimg\u001b[0m\u001b[0;34m\u001b[0m\u001b[0;34m\u001b[0m\u001b[0m\n\u001b[1;32m     72\u001b[0m \u001b[0;34m\u001b[0m\u001b[0m\n",
            "\u001b[0;32m/usr/local/lib/python3.6/dist-packages/torchvision/transforms/transforms.py\u001b[0m in \u001b[0;36m__call__\u001b[0;34m(self, pic)\u001b[0m\n\u001b[1;32m     99\u001b[0m             \u001b[0mTensor\u001b[0m\u001b[0;34m:\u001b[0m \u001b[0mConverted\u001b[0m \u001b[0mimage\u001b[0m\u001b[0;34m.\u001b[0m\u001b[0;34m\u001b[0m\u001b[0;34m\u001b[0m\u001b[0m\n\u001b[1;32m    100\u001b[0m         \"\"\"\n\u001b[0;32m--> 101\u001b[0;31m         \u001b[0;32mreturn\u001b[0m \u001b[0mF\u001b[0m\u001b[0;34m.\u001b[0m\u001b[0mto_tensor\u001b[0m\u001b[0;34m(\u001b[0m\u001b[0mpic\u001b[0m\u001b[0;34m)\u001b[0m\u001b[0;34m\u001b[0m\u001b[0;34m\u001b[0m\u001b[0m\n\u001b[0m\u001b[1;32m    102\u001b[0m \u001b[0;34m\u001b[0m\u001b[0m\n\u001b[1;32m    103\u001b[0m     \u001b[0;32mdef\u001b[0m \u001b[0m__repr__\u001b[0m\u001b[0;34m(\u001b[0m\u001b[0mself\u001b[0m\u001b[0;34m)\u001b[0m\u001b[0;34m:\u001b[0m\u001b[0;34m\u001b[0m\u001b[0;34m\u001b[0m\u001b[0m\n",
            "\u001b[0;32m/usr/local/lib/python3.6/dist-packages/torchvision/transforms/functional.py\u001b[0m in \u001b[0;36mto_tensor\u001b[0;34m(pic)\u001b[0m\n\u001b[1;32m     84\u001b[0m         \u001b[0mimg\u001b[0m \u001b[0;34m=\u001b[0m \u001b[0;36m255\u001b[0m \u001b[0;34m*\u001b[0m \u001b[0mtorch\u001b[0m\u001b[0;34m.\u001b[0m\u001b[0mfrom_numpy\u001b[0m\u001b[0;34m(\u001b[0m\u001b[0mnp\u001b[0m\u001b[0;34m.\u001b[0m\u001b[0marray\u001b[0m\u001b[0;34m(\u001b[0m\u001b[0mpic\u001b[0m\u001b[0;34m,\u001b[0m \u001b[0mnp\u001b[0m\u001b[0;34m.\u001b[0m\u001b[0muint8\u001b[0m\u001b[0;34m,\u001b[0m \u001b[0mcopy\u001b[0m\u001b[0;34m=\u001b[0m\u001b[0;32mFalse\u001b[0m\u001b[0;34m)\u001b[0m\u001b[0;34m)\u001b[0m\u001b[0;34m\u001b[0m\u001b[0;34m\u001b[0m\u001b[0m\n\u001b[1;32m     85\u001b[0m     \u001b[0;32melse\u001b[0m\u001b[0;34m:\u001b[0m\u001b[0;34m\u001b[0m\u001b[0;34m\u001b[0m\u001b[0m\n\u001b[0;32m---> 86\u001b[0;31m         \u001b[0mimg\u001b[0m \u001b[0;34m=\u001b[0m \u001b[0mtorch\u001b[0m\u001b[0;34m.\u001b[0m\u001b[0mByteTensor\u001b[0m\u001b[0;34m(\u001b[0m\u001b[0mtorch\u001b[0m\u001b[0;34m.\u001b[0m\u001b[0mByteStorage\u001b[0m\u001b[0;34m.\u001b[0m\u001b[0mfrom_buffer\u001b[0m\u001b[0;34m(\u001b[0m\u001b[0mpic\u001b[0m\u001b[0;34m.\u001b[0m\u001b[0mtobytes\u001b[0m\u001b[0;34m(\u001b[0m\u001b[0;34m)\u001b[0m\u001b[0;34m)\u001b[0m\u001b[0;34m)\u001b[0m\u001b[0;34m\u001b[0m\u001b[0;34m\u001b[0m\u001b[0m\n\u001b[0m\u001b[1;32m     87\u001b[0m     \u001b[0;31m# PIL image mode: L, LA, P, I, F, RGB, YCbCr, RGBA, CMYK\u001b[0m\u001b[0;34m\u001b[0m\u001b[0;34m\u001b[0m\u001b[0;34m\u001b[0m\u001b[0m\n\u001b[1;32m     88\u001b[0m     \u001b[0;32mif\u001b[0m \u001b[0mpic\u001b[0m\u001b[0;34m.\u001b[0m\u001b[0mmode\u001b[0m \u001b[0;34m==\u001b[0m \u001b[0;34m'YCbCr'\u001b[0m\u001b[0;34m:\u001b[0m\u001b[0;34m\u001b[0m\u001b[0;34m\u001b[0m\u001b[0m\n",
            "\u001b[0;31mKeyboardInterrupt\u001b[0m: "
          ]
        }
      ]
    },
    {
      "cell_type": "code",
      "metadata": {
        "id": "NanOPyvVCih1",
        "colab_type": "code",
        "colab": {
          "base_uri": "https://localhost:8080/",
          "height": 350
        },
        "outputId": "6c414ff9-9904-46d1-8374-95052af42ee0"
      },
      "source": [
        "plt.figure(figsize=(5,5))\n",
        "plt.plot(epsilons, accuracies, \"*-\")\n",
        "plt.yticks(np.arange(0, 1.1, step=0.1))\n",
        "plt.xticks(np.arange(0, .35, step=0.05))\n",
        "plt.title(\"Accuracy vs Epsilon\")\n",
        "plt.xlabel(\"Epsilon\")\n",
        "plt.ylabel(\"Accuracy\")\n",
        "plt.show()"
      ],
      "execution_count": 70,
      "outputs": [
        {
          "output_type": "display_data",
          "data": {
            "image/png": "[encoded data removed]",
            "text/plain": [
              "<Figure size 360x360 with 1 Axes>"
            ]
          },
          "metadata": {
            "tags": []
          }
        }
      ]
    },
    {
      "cell_type": "markdown",
      "metadata": {
        "colab_type": "text",
        "id": "RNpI3oUoO1wE"
      },
      "source": [
        "### 1.1.3: adversarial sample set (5 Points)\n",
        "\n",
        "Please additionally generate a dataset containing at least 1,000 adversarial examples using FGSM."
      ]
    },
    {
      "cell_type": "code",
      "metadata": {
        "colab_type": "code",
        "id": "EvYpo9p2O1wF",
        "colab": {
          "base_uri": "https://localhost:8080/",
          "height": 35
        },
        "outputId": "6146a18e-0149-44b2-8a32-fee8cfad1887"
      },
      "source": [
        "#The generation is implement inside of test_fgsm already !\n",
        "#Here we generate adverserial examples with epsilon=0\n",
        "#The data can be accesses from ex\n",
        "eps=0\n",
        "acc, ex = test_fgsm(model, device, test_loader, eps)\n"
      ],
      "execution_count": 69,
      "outputs": [
        {
          "output_type": "stream",
          "text": [
            "Epsilon: 0\tTest Accuracy = 296 / 10000 = 0.0296\n"
          ],
          "name": "stdout"
        }
      ]
    },
    {
      "cell_type": "markdown",
      "metadata": {
        "colab_type": "text",
        "id": "Ex3qQp3JolD1"
      },
      "source": [
        "### 1.1.3: Visualizing the results (5 Points)\n",
        "\n",
        "Please chose one sample for each class (for example the first when iterating the test data) and plot the (ten) adversarial examples as well as the predicted label (before and after the attack)"
      ]
    },
    {
      "cell_type": "code",
      "metadata": {
        "colab_type": "code",
        "id": "eGkp0B0PO1wJ",
        "colab": {},
        "outputId": "1080fa81-2671-4e39-d1a8-404681afc7ea"
      },
      "source": [
        "#\n",
        "#\n",
        "# ------- Your Code -------\n",
        "#\n",
        "#\n",
        "cnt = 0\n",
        "plt.figure(figsize=(10,10))\n",
        "for i in range(len(epsilons)):\n",
        "    for j in range(len(examples[i])):\n",
        "        cnt += 1\n",
        "        plt.subplot(len(epsilons),len(examples[0]),cnt)\n",
        "        plt.xticks([], [])\n",
        "        plt.yticks([], [])\n",
        "        if j == 0:\n",
        "            plt.ylabel(\"Eps: {}\".format(epsilons[i]), fontsize=14)\n",
        "        orig,adv,ex = examples[i][j]\n",
        "        plt.title(\"{} -> {}\".format(orig, adv))\n",
        "        plt.imshow(ex, cmap=\"gray\")\n",
        "plt.tight_layout()\n",
        "plt.show()"
      ],
      "execution_count": 0,
      "outputs": [
        {
          "output_type": "error",
          "ename": "KeyboardInterrupt",
          "evalue": "",
          "traceback": [
            "\u001b[0;31m---------------------------------------------------------------------------\u001b[0m",
            "\u001b[0;31mKeyboardInterrupt\u001b[0m                         Traceback (most recent call last)",
            "\u001b[0;32m<ipython-input-91-4cb1e638d169>\u001b[0m in \u001b[0;36m<module>\u001b[0;34m\u001b[0m\n\u001b[1;32m      9\u001b[0m     \u001b[0;32mfor\u001b[0m \u001b[0mj\u001b[0m \u001b[0;32min\u001b[0m \u001b[0mrange\u001b[0m\u001b[0;34m(\u001b[0m\u001b[0mlen\u001b[0m\u001b[0;34m(\u001b[0m\u001b[0mexamples\u001b[0m\u001b[0;34m[\u001b[0m\u001b[0mi\u001b[0m\u001b[0;34m]\u001b[0m\u001b[0;34m)\u001b[0m\u001b[0;34m)\u001b[0m\u001b[0;34m:\u001b[0m\u001b[0;34m\u001b[0m\u001b[0;34m\u001b[0m\u001b[0m\n\u001b[1;32m     10\u001b[0m         \u001b[0mcnt\u001b[0m \u001b[0;34m+=\u001b[0m \u001b[0;36m1\u001b[0m\u001b[0;34m\u001b[0m\u001b[0;34m\u001b[0m\u001b[0m\n\u001b[0;32m---> 11\u001b[0;31m         \u001b[0mplt\u001b[0m\u001b[0;34m.\u001b[0m\u001b[0msubplot\u001b[0m\u001b[0;34m(\u001b[0m\u001b[0mlen\u001b[0m\u001b[0;34m(\u001b[0m\u001b[0mepsilons\u001b[0m\u001b[0;34m)\u001b[0m\u001b[0;34m,\u001b[0m\u001b[0mlen\u001b[0m\u001b[0;34m(\u001b[0m\u001b[0mexamples\u001b[0m\u001b[0;34m[\u001b[0m\u001b[0;36m0\u001b[0m\u001b[0;34m]\u001b[0m\u001b[0;34m)\u001b[0m\u001b[0;34m,\u001b[0m\u001b[0mcnt\u001b[0m\u001b[0;34m)\u001b[0m\u001b[0;34m\u001b[0m\u001b[0;34m\u001b[0m\u001b[0m\n\u001b[0m\u001b[1;32m     12\u001b[0m         \u001b[0mplt\u001b[0m\u001b[0;34m.\u001b[0m\u001b[0mxticks\u001b[0m\u001b[0;34m(\u001b[0m\u001b[0;34m[\u001b[0m\u001b[0;34m]\u001b[0m\u001b[0;34m,\u001b[0m \u001b[0;34m[\u001b[0m\u001b[0;34m]\u001b[0m\u001b[0;34m)\u001b[0m\u001b[0;34m\u001b[0m\u001b[0;34m\u001b[0m\u001b[0m\n\u001b[1;32m     13\u001b[0m         \u001b[0mplt\u001b[0m\u001b[0;34m.\u001b[0m\u001b[0myticks\u001b[0m\u001b[0;34m(\u001b[0m\u001b[0;34m[\u001b[0m\u001b[0;34m]\u001b[0m\u001b[0;34m,\u001b[0m \u001b[0;34m[\u001b[0m\u001b[0;34m]\u001b[0m\u001b[0;34m)\u001b[0m\u001b[0;34m\u001b[0m\u001b[0;34m\u001b[0m\u001b[0m\n",
            "\u001b[0;32m~/python3-venv/mlcysec/lib/python3.7/site-packages/matplotlib/pyplot.py\u001b[0m in \u001b[0;36msubplot\u001b[0;34m(*args, **kwargs)\u001b[0m\n\u001b[1;32m   1082\u001b[0m \u001b[0;34m\u001b[0m\u001b[0m\n\u001b[1;32m   1083\u001b[0m     \u001b[0mfig\u001b[0m \u001b[0;34m=\u001b[0m \u001b[0mgcf\u001b[0m\u001b[0;34m(\u001b[0m\u001b[0;34m)\u001b[0m\u001b[0;34m\u001b[0m\u001b[0;34m\u001b[0m\u001b[0m\n\u001b[0;32m-> 1084\u001b[0;31m     \u001b[0ma\u001b[0m \u001b[0;34m=\u001b[0m \u001b[0mfig\u001b[0m\u001b[0;34m.\u001b[0m\u001b[0madd_subplot\u001b[0m\u001b[0;34m(\u001b[0m\u001b[0;34m*\u001b[0m\u001b[0margs\u001b[0m\u001b[0;34m,\u001b[0m \u001b[0;34m**\u001b[0m\u001b[0mkwargs\u001b[0m\u001b[0;34m)\u001b[0m\u001b[0;34m\u001b[0m\u001b[0;34m\u001b[0m\u001b[0m\n\u001b[0m\u001b[1;32m   1085\u001b[0m     \u001b[0mbbox\u001b[0m \u001b[0;34m=\u001b[0m \u001b[0ma\u001b[0m\u001b[0;34m.\u001b[0m\u001b[0mbbox\u001b[0m\u001b[0;34m\u001b[0m\u001b[0;34m\u001b[0m\u001b[0m\n\u001b[1;32m   1086\u001b[0m     \u001b[0mbyebye\u001b[0m \u001b[0;34m=\u001b[0m \u001b[0;34m[\u001b[0m\u001b[0;34m]\u001b[0m\u001b[0;34m\u001b[0m\u001b[0;34m\u001b[0m\u001b[0m\n",
            "\u001b[0;32m~/python3-venv/mlcysec/lib/python3.7/site-packages/matplotlib/figure.py\u001b[0m in \u001b[0;36madd_subplot\u001b[0;34m(self, *args, **kwargs)\u001b[0m\n\u001b[1;32m   1367\u001b[0m             \u001b[0ma\u001b[0m \u001b[0;34m=\u001b[0m \u001b[0msubplot_class_factory\u001b[0m\u001b[0;34m(\u001b[0m\u001b[0mprojection_class\u001b[0m\u001b[0;34m)\u001b[0m\u001b[0;34m(\u001b[0m\u001b[0mself\u001b[0m\u001b[0;34m,\u001b[0m \u001b[0;34m*\u001b[0m\u001b[0margs\u001b[0m\u001b[0;34m,\u001b[0m \u001b[0;34m**\u001b[0m\u001b[0mkwargs\u001b[0m\u001b[0;34m)\u001b[0m\u001b[0;34m\u001b[0m\u001b[0;34m\u001b[0m\u001b[0m\n\u001b[1;32m   1368\u001b[0m         \u001b[0mself\u001b[0m\u001b[0;34m.\u001b[0m\u001b[0m_axstack\u001b[0m\u001b[0;34m.\u001b[0m\u001b[0madd\u001b[0m\u001b[0;34m(\u001b[0m\u001b[0mkey\u001b[0m\u001b[0;34m,\u001b[0m \u001b[0ma\u001b[0m\u001b[0;34m)\u001b[0m\u001b[0;34m\u001b[0m\u001b[0;34m\u001b[0m\u001b[0m\n\u001b[0;32m-> 1369\u001b[0;31m         \u001b[0mself\u001b[0m\u001b[0;34m.\u001b[0m\u001b[0msca\u001b[0m\u001b[0;34m(\u001b[0m\u001b[0ma\u001b[0m\u001b[0;34m)\u001b[0m\u001b[0;34m\u001b[0m\u001b[0;34m\u001b[0m\u001b[0m\n\u001b[0m\u001b[1;32m   1370\u001b[0m         \u001b[0ma\u001b[0m\u001b[0;34m.\u001b[0m\u001b[0m_remove_method\u001b[0m \u001b[0;34m=\u001b[0m \u001b[0mself\u001b[0m\u001b[0;34m.\u001b[0m\u001b[0m_remove_ax\u001b[0m\u001b[0;34m\u001b[0m\u001b[0;34m\u001b[0m\u001b[0m\n\u001b[1;32m   1371\u001b[0m         \u001b[0mself\u001b[0m\u001b[0;34m.\u001b[0m\u001b[0mstale\u001b[0m \u001b[0;34m=\u001b[0m \u001b[0;32mTrue\u001b[0m\u001b[0;34m\u001b[0m\u001b[0;34m\u001b[0m\u001b[0m\n",
            "\u001b[0;32m~/python3-venv/mlcysec/lib/python3.7/site-packages/matplotlib/figure.py\u001b[0m in \u001b[0;36msca\u001b[0;34m(self, a)\u001b[0m\n\u001b[1;32m   1865\u001b[0m     \u001b[0;32mdef\u001b[0m \u001b[0msca\u001b[0m\u001b[0;34m(\u001b[0m\u001b[0mself\u001b[0m\u001b[0;34m,\u001b[0m \u001b[0ma\u001b[0m\u001b[0;34m)\u001b[0m\u001b[0;34m:\u001b[0m\u001b[0;34m\u001b[0m\u001b[0;34m\u001b[0m\u001b[0m\n\u001b[1;32m   1866\u001b[0m         \u001b[0;34m\"\"\"Set the current axes to be a and return a.\"\"\"\u001b[0m\u001b[0;34m\u001b[0m\u001b[0;34m\u001b[0m\u001b[0m\n\u001b[0;32m-> 1867\u001b[0;31m         \u001b[0mself\u001b[0m\u001b[0;34m.\u001b[0m\u001b[0m_axstack\u001b[0m\u001b[0;34m.\u001b[0m\u001b[0mbubble\u001b[0m\u001b[0;34m(\u001b[0m\u001b[0ma\u001b[0m\u001b[0;34m)\u001b[0m\u001b[0;34m\u001b[0m\u001b[0;34m\u001b[0m\u001b[0m\n\u001b[0m\u001b[1;32m   1868\u001b[0m         \u001b[0;32mfor\u001b[0m \u001b[0mfunc\u001b[0m \u001b[0;32min\u001b[0m \u001b[0mself\u001b[0m\u001b[0;34m.\u001b[0m\u001b[0m_axobservers\u001b[0m\u001b[0;34m:\u001b[0m\u001b[0;34m\u001b[0m\u001b[0;34m\u001b[0m\u001b[0m\n\u001b[1;32m   1869\u001b[0m             \u001b[0mfunc\u001b[0m\u001b[0;34m(\u001b[0m\u001b[0mself\u001b[0m\u001b[0;34m)\u001b[0m\u001b[0;34m\u001b[0m\u001b[0;34m\u001b[0m\u001b[0m\n",
            "\u001b[0;32m~/python3-venv/mlcysec/lib/python3.7/site-packages/matplotlib/figure.py\u001b[0m in \u001b[0;36mbubble\u001b[0;34m(self, a)\u001b[0m\n\u001b[1;32m    116\u001b[0m         \u001b[0mstack\u001b[0m\u001b[0;34m,\u001b[0m \u001b[0mto\u001b[0m \u001b[0mthe\u001b[0m \u001b[0mtop\u001b[0m\u001b[0;34m.\u001b[0m\u001b[0;34m\u001b[0m\u001b[0;34m\u001b[0m\u001b[0m\n\u001b[1;32m    117\u001b[0m         \"\"\"\n\u001b[0;32m--> 118\u001b[0;31m         \u001b[0;32mreturn\u001b[0m \u001b[0mStack\u001b[0m\u001b[0;34m.\u001b[0m\u001b[0mbubble\u001b[0m\u001b[0;34m(\u001b[0m\u001b[0mself\u001b[0m\u001b[0;34m,\u001b[0m \u001b[0mself\u001b[0m\u001b[0;34m.\u001b[0m\u001b[0m_entry_from_axes\u001b[0m\u001b[0;34m(\u001b[0m\u001b[0ma\u001b[0m\u001b[0;34m)\u001b[0m\u001b[0;34m)\u001b[0m\u001b[0;34m\u001b[0m\u001b[0;34m\u001b[0m\u001b[0m\n\u001b[0m\u001b[1;32m    119\u001b[0m \u001b[0;34m\u001b[0m\u001b[0m\n\u001b[1;32m    120\u001b[0m     \u001b[0;32mdef\u001b[0m \u001b[0madd\u001b[0m\u001b[0;34m(\u001b[0m\u001b[0mself\u001b[0m\u001b[0;34m,\u001b[0m \u001b[0mkey\u001b[0m\u001b[0;34m,\u001b[0m \u001b[0ma\u001b[0m\u001b[0;34m)\u001b[0m\u001b[0;34m:\u001b[0m\u001b[0;34m\u001b[0m\u001b[0;34m\u001b[0m\u001b[0m\n",
            "\u001b[0;32m~/python3-venv/mlcysec/lib/python3.7/site-packages/matplotlib/cbook/__init__.py\u001b[0m in \u001b[0;36mbubble\u001b[0;34m(self, o)\u001b[0m\n\u001b[1;32m    707\u001b[0m                 \u001b[0mbubbles\u001b[0m\u001b[0;34m.\u001b[0m\u001b[0mappend\u001b[0m\u001b[0;34m(\u001b[0m\u001b[0mthiso\u001b[0m\u001b[0;34m)\u001b[0m\u001b[0;34m\u001b[0m\u001b[0;34m\u001b[0m\u001b[0m\n\u001b[1;32m    708\u001b[0m             \u001b[0;32melse\u001b[0m\u001b[0;34m:\u001b[0m\u001b[0;34m\u001b[0m\u001b[0;34m\u001b[0m\u001b[0m\n\u001b[0;32m--> 709\u001b[0;31m                 \u001b[0mself\u001b[0m\u001b[0;34m.\u001b[0m\u001b[0mpush\u001b[0m\u001b[0;34m(\u001b[0m\u001b[0mthiso\u001b[0m\u001b[0;34m)\u001b[0m\u001b[0;34m\u001b[0m\u001b[0;34m\u001b[0m\u001b[0m\n\u001b[0m\u001b[1;32m    710\u001b[0m         \u001b[0;32mfor\u001b[0m \u001b[0mthiso\u001b[0m \u001b[0;32min\u001b[0m \u001b[0mbubbles\u001b[0m\u001b[0;34m:\u001b[0m\u001b[0;34m\u001b[0m\u001b[0;34m\u001b[0m\u001b[0m\n\u001b[1;32m    711\u001b[0m             \u001b[0mself\u001b[0m\u001b[0;34m.\u001b[0m\u001b[0mpush\u001b[0m\u001b[0;34m(\u001b[0m\u001b[0mo\u001b[0m\u001b[0;34m)\u001b[0m\u001b[0;34m\u001b[0m\u001b[0;34m\u001b[0m\u001b[0m\n",
            "\u001b[0;32m~/python3-venv/mlcysec/lib/python3.7/site-packages/matplotlib/cbook/__init__.py\u001b[0m in \u001b[0;36mpush\u001b[0;34m(self, o)\u001b[0m\n\u001b[1;32m    669\u001b[0m         \"\"\"\n\u001b[1;32m    670\u001b[0m         \u001b[0mself\u001b[0m\u001b[0;34m.\u001b[0m\u001b[0m_elements\u001b[0m \u001b[0;34m=\u001b[0m \u001b[0mself\u001b[0m\u001b[0;34m.\u001b[0m\u001b[0m_elements\u001b[0m\u001b[0;34m[\u001b[0m\u001b[0;34m:\u001b[0m\u001b[0mself\u001b[0m\u001b[0;34m.\u001b[0m\u001b[0m_pos\u001b[0m \u001b[0;34m+\u001b[0m \u001b[0;36m1\u001b[0m\u001b[0;34m]\u001b[0m \u001b[0;34m+\u001b[0m \u001b[0;34m[\u001b[0m\u001b[0mo\u001b[0m\u001b[0;34m]\u001b[0m\u001b[0;34m\u001b[0m\u001b[0;34m\u001b[0m\u001b[0m\n\u001b[0;32m--> 671\u001b[0;31m         \u001b[0mself\u001b[0m\u001b[0;34m.\u001b[0m\u001b[0m_pos\u001b[0m \u001b[0;34m=\u001b[0m \u001b[0mlen\u001b[0m\u001b[0;34m(\u001b[0m\u001b[0mself\u001b[0m\u001b[0;34m.\u001b[0m\u001b[0m_elements\u001b[0m\u001b[0;34m)\u001b[0m \u001b[0;34m-\u001b[0m \u001b[0;36m1\u001b[0m\u001b[0;34m\u001b[0m\u001b[0;34m\u001b[0m\u001b[0m\n\u001b[0m\u001b[1;32m    672\u001b[0m         \u001b[0;32mreturn\u001b[0m \u001b[0mself\u001b[0m\u001b[0;34m(\u001b[0m\u001b[0;34m)\u001b[0m\u001b[0;34m\u001b[0m\u001b[0;34m\u001b[0m\u001b[0m\n\u001b[1;32m    673\u001b[0m \u001b[0;34m\u001b[0m\u001b[0m\n",
            "\u001b[0;31mKeyboardInterrupt\u001b[0m: "
          ]
        },
        {
          "output_type": "display_data",
          "data": {
            "image/png": "[encoded data removed]",
            "text/plain": [
              "<Figure size 720x720 with 1747 Axes>"
            ]
          },
          "metadata": {
            "tags": []
          }
        }
      ]
    },
    {
      "cell_type": "markdown",
      "metadata": {
        "colab_type": "text",
        "id": "iPB-GK1CymiV"
      },
      "source": [
        "### 1.2.1: Using libraries for attacks (10 Points)\n",
        "As the field of evasion attacks (in particular for DNN) is very active research field, several libraries have been published that contain attacks. We will work here with the Foolbox (https://github.com/bethgelab/foolbox) library. Please implement two other (recent, advanced) attacks of your choice using this library. "
      ]
    },
    {
      "cell_type": "code",
      "metadata": {
        "colab_type": "code",
        "id": "pa6rPT53LUW8",
        "colab": {}
      },
      "source": [
        "#\n",
        "#\n",
        "# ------- Your Code -------\n",
        "#\n",
        "#\n",
        "\n",
        "# (a) attack 1\n",
        "# (b) attack 2\n",
        "\n",
        "!pip install foolbox"
      ],
      "execution_count": 0,
      "outputs": []
    },
    {
      "cell_type": "code",
      "metadata": {
        "id": "3WL0OPGvCiiH",
        "colab_type": "code",
        "colab": {},
        "outputId": "458c92ca-9f8b-4da4-83f3-cbfb79b7c36b"
      },
      "source": [
        "# (a) attack 1\n",
        "\n",
        "\n",
        "test_loader = torch.utils.data.DataLoader(\n",
        "    torchvision.datasets.MNIST('data/mnist/', train=False, download=True,\n",
        "                              transform=torchvision.transforms.Compose([\n",
        "                                  torchvision.transforms.ToTensor(),\n",
        "                              ])), batch_size=1, shuffle=False)\n",
        "import foolbox\n",
        "import torchvision.models as models\n",
        "model = Net()\n",
        "model.load_state_dict(torch.load(root_dir+'best_model.pt'),strict=False)\n",
        "print(model)\n",
        "# instantiate model (supports PyTorch, Keras, TensorFlow (Graph and Eager), JAX, MXNet and many more)\n",
        "fmodel = foolbox.models.PyTorchModel(model, bounds= (0,1), num_classes=10)\n",
        "\n",
        "# get a batch of images and labels and print the accuracy\n",
        "# -> 0.9375\n",
        "\n",
        "images = np.expand_dims(images, axis=1)\n",
        "\n",
        "attack = foolbox.attacks.GradientSignAttack(fmodel)\n",
        "i = 0\n",
        "adversarials_GSA = []\n",
        "for index, (data, target) in enumerate(test_loader):\n",
        "    data, target = data.to(device), target.to(device)\n",
        "    data, target = data.data.numpy(), target.data.numpy()\n",
        "    adversarials_GSA.append(attack(data, target).squeeze())\n",
        "    if index >= 9:\n",
        "        break\n",
        "    i = i + 1\n",
        "\n",
        "print(len(adversarials_GSA))"
      ],
      "execution_count": 0,
      "outputs": [
        {
          "output_type": "stream",
          "text": [
            "Net(\n",
            "  (conv1): Conv2d(1, 10, kernel_size=(5, 5), stride=(1, 1))\n",
            "  (conv2): Conv2d(10, 20, kernel_size=(5, 5), stride=(1, 1))\n",
            "  (conv2_drop): Dropout2d(p=0.5, inplace=False)\n",
            "  (fc1): Linear(in_features=320, out_features=50, bias=True)\n",
            "  (fc2): Linear(in_features=50, out_features=10, bias=True)\n",
            ")\n"
          ],
          "name": "stdout"
        },
        {
          "output_type": "stream",
          "text": [
            "/Users/mak/python3-venv/mlcysec/lib/python3.7/site-packages/foolbox/models/pytorch.py:71: UserWarning: The PyTorch model is in training mode and therefore might not be deterministic. Call the eval() method to set it in evaluation mode if this is not intended.\n",
            "  \"The PyTorch model is in training mode and therefore might\"\n",
            "/Users/mak/python3-venv/mlcysec/lib/python3.7/site-packages/ipykernel_launcher.py:21: UserWarning: Implicit dimension choice for log_softmax has been deprecated. Change the call to include dim=X as an argument.\n"
          ],
          "name": "stderr"
        },
        {
          "output_type": "stream",
          "text": [
            "10\n"
          ],
          "name": "stdout"
        }
      ]
    },
    {
      "cell_type": "code",
      "metadata": {
        "id": "_DcZPSD9CiiN",
        "colab_type": "code",
        "colab": {},
        "outputId": "532cecc0-721e-42b6-a9fc-8b7c4ec3a2c3"
      },
      "source": [
        "import foolbox\n",
        "import torchvision.models as models\n",
        "model = Net()\n",
        "model.load_state_dict(torch.load(root_dir+'best_model.pt'),strict=False)\n",
        "print(model)\n",
        "# instantiate model (supports PyTorch, Keras, TensorFlow (Graph and Eager), JAX, MXNet and many more)\n",
        "fmodel = foolbox.models.PyTorchModel(model, bounds= (0,1), num_classes=10)\n",
        "\n",
        "# get a batch of images and labels and print the accuracy\n",
        "images, labels = foolbox.utils.samples(dataset= 'mnist', batchsize=10, data_format='channels_first', bounds=(0, 1))\n",
        "#print(np.mean(fmodel.forward(images).argmax(axis=-1) == labels))\n",
        "# -> 0.9375\n",
        "\n",
        "attack = foolbox.attacks.CarliniWagnerL2Attack(fmodel, distance=foolbox.distances.Linf)\n",
        "\n",
        "\n",
        "i = 0\n",
        "adversarials_CWA = []\n",
        "for index, (data, target) in enumerate(test_loader):\n",
        "    data, target = data.to(device), target.to(device)\n",
        "    data, target = data.data.numpy(), target.data.numpy()\n",
        "    adversarials_CWA.append(attack(data, target).squeeze())\n",
        "    if index >= 9:\n",
        "        break\n",
        "print(len(adversarials_CWA))\n",
        "\n"
      ],
      "execution_count": 0,
      "outputs": [
        {
          "output_type": "stream",
          "text": [
            "Net(\n",
            "  (conv1): Conv2d(1, 10, kernel_size=(5, 5), stride=(1, 1))\n",
            "  (conv2): Conv2d(10, 20, kernel_size=(5, 5), stride=(1, 1))\n",
            "  (conv2_drop): Dropout2d(p=0.5, inplace=False)\n",
            "  (fc1): Linear(in_features=320, out_features=50, bias=True)\n",
            "  (fc2): Linear(in_features=50, out_features=10, bias=True)\n",
            ")\n"
          ],
          "name": "stdout"
        },
        {
          "output_type": "stream",
          "text": [
            "/Users/mak/python3-venv/mlcysec/lib/python3.7/site-packages/foolbox/models/pytorch.py:71: UserWarning: The PyTorch model is in training mode and therefore might not be deterministic. Call the eval() method to set it in evaluation mode if this is not intended.\n",
            "  \"The PyTorch model is in training mode and therefore might\"\n",
            "/Users/mak/python3-venv/mlcysec/lib/python3.7/site-packages/ipykernel_launcher.py:21: UserWarning: Implicit dimension choice for log_softmax has been deprecated. Change the call to include dim=X as an argument.\n"
          ],
          "name": "stderr"
        },
        {
          "output_type": "stream",
          "text": [
            "10\n"
          ],
          "name": "stdout"
        }
      ]
    },
    {
      "cell_type": "code",
      "metadata": {
        "id": "-o6_slpDCiiQ",
        "colab_type": "code",
        "colab": {},
        "outputId": "08bee843-16a9-49b2-b763-014bf5384b33"
      },
      "source": [
        "# Original image\n",
        "original_images = []\n",
        "original_class = []\n",
        "for index, (data, target)  in enumerate(test_loader):\n",
        "    data, target = data.to(device), target.to(device)\n",
        "    data, target = data.data.numpy(), target.data.numpy()\n",
        "    data, target = data.squeeze(), target\n",
        "    original_images.append(data)\n",
        "    original_class.append(target)\n",
        "    if index >= 9:\n",
        "        break\n",
        "\n",
        "\n",
        "\n",
        "print(len(original_images))"
      ],
      "execution_count": 0,
      "outputs": [
        {
          "output_type": "stream",
          "text": [
            "10\n"
          ],
          "name": "stdout"
        }
      ]
    },
    {
      "cell_type": "markdown",
      "metadata": {
        "colab_type": "text",
        "id": "xVH821TOymic"
      },
      "source": [
        "### 1.2.2: Visualizing the results (20 Points)\n",
        "As before, please plot the new adversarial examples. Compare all crafting techniques (FGSM, 2 methods from Foolbox).\n"
      ]
    },
    {
      "cell_type": "code",
      "metadata": {
        "colab_type": "code",
        "id": "69nc8PMRymid",
        "colab": {},
        "outputId": "d5a3f2b4-ed87-492f-9995-f2be3eea08f0"
      },
      "source": [
        "#\n",
        "#\n",
        "# ------- Your Code -------\n",
        "#\n",
        "#\n",
        "\n",
        "# template code (Please feel free to change this)\n",
        "# (each column corresponds to one attack method)\n",
        "col_titles = ['Ori','FGSM','GSA', 'CWA'] \n",
        "nsamples = 10\n",
        "nrows = nsamples\n",
        "ncols = len(col_titles)\n",
        "\n",
        "fig, axes = plt.subplots(nrows,ncols,figsize=(8,12))  # create the figure with subplots\n",
        "[ax.set_axis_off() for ax in axes.ravel()]  # remove the axis\n",
        "\n",
        "for ax, col in zip(axes[0], col_titles): # set up the title for each column\n",
        "    ax.set_title(col,fontdict={'fontsize':18,'color':'b'})\n",
        "\n",
        "for i in range(nsamples):\n",
        "    axes[i,0].imshow(original_images[i])\n",
        "    #axes[i,1].imshow(adv_FGSM[i])\n",
        "    axes[i,2].imshow(adversarials_GSA[i])\n",
        "    axes[i,3].imshow(adversarials_CWA[i])\n",
        "                  "
      ],
      "execution_count": 0,
      "outputs": [
        {
          "output_type": "display_data",
          "data": {
            "image/png": "[encoded data removed]",
            "text/plain": [
              "<Figure size 576x864 with 40 Axes>"
            ]
          },
          "metadata": {
            "tags": [],
            "needs_background": "light"
          }
        }
      ]
    },
    {
      "cell_type": "markdown",
      "metadata": {
        "colab_type": "text",
        "id": "m6HxYLl3O1wV"
      },
      "source": [
        "Which differences do you observe when comparing different attack methods? Why?   \n",
        "Please write a brief summary of your findings.   \n",
        "* Does the attack always succeed (the model make wrong prediction on the adversarial sample)?\n",
        "* How different is the adversarial sample from the original image?\n",
        "(L0,L2,Linf norm)  \n",
        "* How about the computation cost of each attack method?\n",
        "* Does the attack require white-box access to the model?\n",
        "* ....."
      ]
    },
    {
      "cell_type": "markdown",
      "metadata": {
        "colab_type": "text",
        "id": "KJUmrv5Bymij"
      },
      "source": [
        "# 2. Defending an ML model\n",
        "\n",
        "So far, we have focused on attacking an ML model. In this section, we want you to defend your model. As before concerning the attack, you can chose an example from the lecture, or experiment with any idea you have.\n",
        "\n",
        "We do not require the defense to work perfectly - but what we want you to understand is why it works or why it does not work."
      ]
    },
    {
      "cell_type": "markdown",
      "metadata": {
        "colab_type": "text",
        "id": "0gHUFK6Mymik"
      },
      "source": [
        "### 2.1: Implementing a defense of your choice (25 Points)\n",
        "As stated before, feel free to implement a defense or mitigation of your choice. Evaluate the defense on adversarial examples. This entails at least the 1,000 examples crafted from FGSM.   \n",
        "Also, you are encouraged (optional) to defend against the two other attack methods, i.e. you are free to increase this special test set (for example by >30 examples (>10 from your FGSM attack, >10 from both the two other attacks of the library))."
      ]
    },
    {
      "cell_type": "code",
      "metadata": {
        "colab_type": "code",
        "id": "DD0UalSeymim",
        "colab": {}
      },
      "source": [
        "teacher_model= Net()\n",
        "teacher_model.load_state_dict(torch.load(root_dir+'best_modell.pt'), strict=False)\n",
        "\n",
        "student_model=Net()\n",
        "def train_distillation( n_epochs):\n",
        "    \n",
        "\n",
        "    for batch_idx, (data, target) in enumerate(train_loader):\n",
        "        pred = teacher_model(data)\n",
        "        optimizer.zero_grad()\n",
        "        output = student_model(data)\n",
        "        loss = F.kl_div(F.log_softmax(output, dim=-1), F.softmax(pred, dim=-1), reduction='batchmean')\n",
        "        loss.backward()\n",
        "        optimizer.step()\n",
        "        if batch_idx % 100 == 0:\n",
        "            print('Train Epoch: {} [{}/{} ({:.0f}%)]\\tLoss: {:.6f}'.format(\n",
        "                epoch, batch_idx * len(data), len(train_loader.dataset), \n",
        "                100. * batch_idx / len(train_loader), loss.item()))\n",
        "\n",
        "            train_counter.append(\n",
        "                (batch_idx*64) + ((epoch-1)*len(train_loader.dataset)))\n",
        "            \n",
        "            torch.save(student_model.state_dict(), root_dir+'model_des.pth')\n",
        "    train_losses.append(loss.item()) \n",
        "\n",
        "\n"
      ],
      "execution_count": 0,
      "outputs": []
    },
    {
      "cell_type": "code",
      "metadata": {
        "id": "0RzA4twpFJ5F",
        "colab_type": "code",
        "colab": {}
      },
      "source": [
        "def test_distillation():\n",
        "    student_model.eval()\n",
        "    test_loss = 0 \n",
        "    correct = 0 \n",
        "    with torch.no_grad():\n",
        "        for data, target in test_loader:\n",
        "            output = F.log_softmax(student_model(data))\n",
        "            test_loss += F.nll_loss(output, target, size_average=False).item()\n",
        "            pred = output.data.max(1, keepdim=True)[1]\n",
        "            correct += pred.eq(target.data.view_as(pred)).sum()\n",
        "            \n",
        "        test_loss /= len(test_loader.dataset)\n",
        "        test_losses.append(test_loss)\n",
        "        print('\\nTest set: Avg. loss: {:.4f}, Accuracy: {}/{} ({:.0f}%)\\n'.format(\n",
        "            test_loss, correct, len(test_loader.dataset), \n",
        "            100. * correct / len(test_loader.dataset)))"
      ],
      "execution_count": 0,
      "outputs": []
    },
    {
      "cell_type": "code",
      "metadata": {
        "id": "X423PSVAGgyw",
        "colab_type": "code",
        "colab": {
          "base_uri": "https://localhost:8080/",
          "height": 1000
        },
        "outputId": "210a85fd-682f-4e47-a9fb-e18e04c66f40"
      },
      "source": [
        "\n",
        "train_losses = []\n",
        "train_counter = []\n",
        "test_losses = []\n",
        "train_accuracies = []\n",
        "test_accuracies = []\n",
        "test_counter = [i*len(train_loader.dataset) for i in range(n_epochs + 1)]\n",
        "\n",
        "optimizer = optim.SGD(student_model.parameters(), lr= learning_rate, momentum=momentum)\n",
        "\n",
        "for epoch in range(1, n_epochs):\n",
        "    train_distillation(epoch)\n",
        "    test_distillation()"
      ],
      "execution_count": 17,
      "outputs": [
        {
          "output_type": "stream",
          "text": [
            "Train Epoch: 1 [0/60000 (0%)]\tLoss: 2.028781\n",
            "Train Epoch: 1 [6400/60000 (11%)]\tLoss: 2.140195\n",
            "Train Epoch: 1 [12800/60000 (21%)]\tLoss: 2.088034\n",
            "Train Epoch: 1 [19200/60000 (32%)]\tLoss: 1.992600\n",
            "Train Epoch: 1 [25600/60000 (43%)]\tLoss: 1.606040\n",
            "Train Epoch: 1 [32000/60000 (53%)]\tLoss: 1.013826\n",
            "Train Epoch: 1 [38400/60000 (64%)]\tLoss: 0.982217\n",
            "Train Epoch: 1 [44800/60000 (75%)]\tLoss: 0.840193\n",
            "Train Epoch: 1 [51200/60000 (85%)]\tLoss: 0.966888\n",
            "Train Epoch: 1 [57600/60000 (96%)]\tLoss: 0.709972\n"
          ],
          "name": "stdout"
        },
        {
          "output_type": "stream",
          "text": [
            "/usr/local/lib/python3.6/dist-packages/ipykernel_launcher.py:7: UserWarning: Implicit dimension choice for log_softmax has been deprecated. Change the call to include dim=X as an argument.\n",
            "  import sys\n",
            "/usr/local/lib/python3.6/dist-packages/torch/nn/_reduction.py:43: UserWarning: size_average and reduce args will be deprecated, please use reduction='sum' instead.\n",
            "  warnings.warn(warning.format(ret))\n"
          ],
          "name": "stderr"
        },
        {
          "output_type": "stream",
          "text": [
            "\n",
            "Test set: Avg. loss: 0.4012, Accuracy: 9008/10000 (90%)\n",
            "\n",
            "Train Epoch: 2 [0/60000 (0%)]\tLoss: 0.454725\n",
            "Train Epoch: 2 [6400/60000 (11%)]\tLoss: 0.361738\n",
            "Train Epoch: 2 [12800/60000 (21%)]\tLoss: 0.239621\n",
            "Train Epoch: 2 [19200/60000 (32%)]\tLoss: 0.240460\n",
            "Train Epoch: 2 [25600/60000 (43%)]\tLoss: 0.209557\n",
            "Train Epoch: 2 [32000/60000 (53%)]\tLoss: 0.284628\n",
            "Train Epoch: 2 [38400/60000 (64%)]\tLoss: 0.241076\n",
            "Train Epoch: 2 [44800/60000 (75%)]\tLoss: 0.275183\n",
            "Train Epoch: 2 [51200/60000 (85%)]\tLoss: 0.315840\n",
            "Train Epoch: 2 [57600/60000 (96%)]\tLoss: 0.153197\n",
            "\n",
            "Test set: Avg. loss: 0.1945, Accuracy: 9527/10000 (95%)\n",
            "\n",
            "Train Epoch: 3 [0/60000 (0%)]\tLoss: 0.250171\n",
            "Train Epoch: 3 [6400/60000 (11%)]\tLoss: 0.246922\n",
            "Train Epoch: 3 [12800/60000 (21%)]\tLoss: 0.257266\n",
            "Train Epoch: 3 [19200/60000 (32%)]\tLoss: 0.182992\n",
            "Train Epoch: 3 [25600/60000 (43%)]\tLoss: 0.192654\n",
            "Train Epoch: 3 [32000/60000 (53%)]\tLoss: 0.102197\n",
            "Train Epoch: 3 [38400/60000 (64%)]\tLoss: 0.161886\n",
            "Train Epoch: 3 [44800/60000 (75%)]\tLoss: 0.291681\n",
            "Train Epoch: 3 [51200/60000 (85%)]\tLoss: 0.179960\n",
            "Train Epoch: 3 [57600/60000 (96%)]\tLoss: 0.229303\n",
            "\n",
            "Test set: Avg. loss: 0.1665, Accuracy: 9656/10000 (97%)\n",
            "\n",
            "Train Epoch: 4 [0/60000 (0%)]\tLoss: 0.184011\n",
            "Train Epoch: 4 [6400/60000 (11%)]\tLoss: 0.212930\n",
            "Train Epoch: 4 [12800/60000 (21%)]\tLoss: 0.279301\n",
            "Train Epoch: 4 [19200/60000 (32%)]\tLoss: 0.145174\n",
            "Train Epoch: 4 [25600/60000 (43%)]\tLoss: 0.186078\n",
            "Train Epoch: 4 [32000/60000 (53%)]\tLoss: 0.291439\n",
            "Train Epoch: 4 [38400/60000 (64%)]\tLoss: 0.176789\n",
            "Train Epoch: 4 [44800/60000 (75%)]\tLoss: 0.219554\n",
            "Train Epoch: 4 [51200/60000 (85%)]\tLoss: 0.268056\n",
            "Train Epoch: 4 [57600/60000 (96%)]\tLoss: 0.154934\n",
            "\n",
            "Test set: Avg. loss: 0.1614, Accuracy: 9670/10000 (97%)\n",
            "\n",
            "Train Epoch: 5 [0/60000 (0%)]\tLoss: 0.184597\n",
            "Train Epoch: 5 [6400/60000 (11%)]\tLoss: 0.252359\n",
            "Train Epoch: 5 [12800/60000 (21%)]\tLoss: 0.151872\n",
            "Train Epoch: 5 [19200/60000 (32%)]\tLoss: 0.267440\n",
            "Train Epoch: 5 [25600/60000 (43%)]\tLoss: 0.157814\n",
            "Train Epoch: 5 [32000/60000 (53%)]\tLoss: 0.217014\n",
            "Train Epoch: 5 [38400/60000 (64%)]\tLoss: 0.157967\n",
            "Train Epoch: 5 [44800/60000 (75%)]\tLoss: 0.171273\n",
            "Train Epoch: 5 [51200/60000 (85%)]\tLoss: 0.124976\n",
            "Train Epoch: 5 [57600/60000 (96%)]\tLoss: 0.198050\n",
            "\n",
            "Test set: Avg. loss: 0.1484, Accuracy: 9730/10000 (97%)\n",
            "\n",
            "Train Epoch: 6 [0/60000 (0%)]\tLoss: 0.114365\n",
            "Train Epoch: 6 [6400/60000 (11%)]\tLoss: 0.194392\n",
            "Train Epoch: 6 [12800/60000 (21%)]\tLoss: 0.195494\n",
            "Train Epoch: 6 [19200/60000 (32%)]\tLoss: 0.267163\n",
            "Train Epoch: 6 [25600/60000 (43%)]\tLoss: 0.167765\n",
            "Train Epoch: 6 [32000/60000 (53%)]\tLoss: 0.257303\n",
            "Train Epoch: 6 [38400/60000 (64%)]\tLoss: 0.191573\n",
            "Train Epoch: 6 [44800/60000 (75%)]\tLoss: 0.111598\n",
            "Train Epoch: 6 [51200/60000 (85%)]\tLoss: 0.322345\n",
            "Train Epoch: 6 [57600/60000 (96%)]\tLoss: 0.299862\n",
            "\n",
            "Test set: Avg. loss: 0.1416, Accuracy: 9730/10000 (97%)\n",
            "\n",
            "Train Epoch: 7 [0/60000 (0%)]\tLoss: 0.167854\n",
            "Train Epoch: 7 [6400/60000 (11%)]\tLoss: 0.129532\n",
            "Train Epoch: 7 [12800/60000 (21%)]\tLoss: 0.216693\n",
            "Train Epoch: 7 [19200/60000 (32%)]\tLoss: 0.177902\n",
            "Train Epoch: 7 [25600/60000 (43%)]\tLoss: 0.162724\n",
            "Train Epoch: 7 [32000/60000 (53%)]\tLoss: 0.242397\n",
            "Train Epoch: 7 [38400/60000 (64%)]\tLoss: 0.117394\n",
            "Train Epoch: 7 [44800/60000 (75%)]\tLoss: 0.165162\n",
            "Train Epoch: 7 [51200/60000 (85%)]\tLoss: 0.164268\n",
            "Train Epoch: 7 [57600/60000 (96%)]\tLoss: 0.122496\n",
            "\n",
            "Test set: Avg. loss: 0.1313, Accuracy: 9743/10000 (97%)\n",
            "\n",
            "Train Epoch: 8 [0/60000 (0%)]\tLoss: 0.202094\n",
            "Train Epoch: 8 [6400/60000 (11%)]\tLoss: 0.139744\n",
            "Train Epoch: 8 [12800/60000 (21%)]\tLoss: 0.260618\n",
            "Train Epoch: 8 [19200/60000 (32%)]\tLoss: 0.171675\n",
            "Train Epoch: 8 [25600/60000 (43%)]\tLoss: 0.121082\n",
            "Train Epoch: 8 [32000/60000 (53%)]\tLoss: 0.190230\n",
            "Train Epoch: 8 [38400/60000 (64%)]\tLoss: 0.188352\n",
            "Train Epoch: 8 [44800/60000 (75%)]\tLoss: 0.147596\n",
            "Train Epoch: 8 [51200/60000 (85%)]\tLoss: 0.282431\n",
            "Train Epoch: 8 [57600/60000 (96%)]\tLoss: 0.195479\n",
            "\n",
            "Test set: Avg. loss: 0.1412, Accuracy: 9743/10000 (97%)\n",
            "\n",
            "Train Epoch: 9 [0/60000 (0%)]\tLoss: 0.330468\n",
            "Train Epoch: 9 [6400/60000 (11%)]\tLoss: 0.181533\n",
            "Train Epoch: 9 [12800/60000 (21%)]\tLoss: 0.186725\n",
            "Train Epoch: 9 [19200/60000 (32%)]\tLoss: 0.158080\n",
            "Train Epoch: 9 [25600/60000 (43%)]\tLoss: 0.192838\n",
            "Train Epoch: 9 [32000/60000 (53%)]\tLoss: 0.248909\n",
            "Train Epoch: 9 [38400/60000 (64%)]\tLoss: 0.265351\n",
            "Train Epoch: 9 [44800/60000 (75%)]\tLoss: 0.310028\n",
            "Train Epoch: 9 [51200/60000 (85%)]\tLoss: 0.191644\n",
            "Train Epoch: 9 [57600/60000 (96%)]\tLoss: 0.294805\n",
            "\n",
            "Test set: Avg. loss: 0.1359, Accuracy: 9761/10000 (98%)\n",
            "\n",
            "Train Epoch: 10 [0/60000 (0%)]\tLoss: 0.183978\n",
            "Train Epoch: 10 [6400/60000 (11%)]\tLoss: 0.213475\n",
            "Train Epoch: 10 [12800/60000 (21%)]\tLoss: 0.123992\n",
            "Train Epoch: 10 [19200/60000 (32%)]\tLoss: 0.200863\n",
            "Train Epoch: 10 [25600/60000 (43%)]\tLoss: 0.113426\n",
            "Train Epoch: 10 [32000/60000 (53%)]\tLoss: 0.134639\n",
            "Train Epoch: 10 [38400/60000 (64%)]\tLoss: 0.162906\n",
            "Train Epoch: 10 [44800/60000 (75%)]\tLoss: 0.137439\n",
            "Train Epoch: 10 [51200/60000 (85%)]\tLoss: 0.178100\n",
            "Train Epoch: 10 [57600/60000 (96%)]\tLoss: 0.155179\n",
            "\n",
            "Test set: Avg. loss: 0.1390, Accuracy: 9777/10000 (98%)\n",
            "\n",
            "Train Epoch: 11 [0/60000 (0%)]\tLoss: 0.204557\n",
            "Train Epoch: 11 [6400/60000 (11%)]\tLoss: 0.240133\n",
            "Train Epoch: 11 [12800/60000 (21%)]\tLoss: 0.146800\n",
            "Train Epoch: 11 [19200/60000 (32%)]\tLoss: 0.208624\n",
            "Train Epoch: 11 [25600/60000 (43%)]\tLoss: 0.138287\n",
            "Train Epoch: 11 [32000/60000 (53%)]\tLoss: 0.206536\n",
            "Train Epoch: 11 [38400/60000 (64%)]\tLoss: 0.197853\n",
            "Train Epoch: 11 [44800/60000 (75%)]\tLoss: 0.095945\n",
            "Train Epoch: 11 [51200/60000 (85%)]\tLoss: 0.257460\n",
            "Train Epoch: 11 [57600/60000 (96%)]\tLoss: 0.202447\n",
            "\n",
            "Test set: Avg. loss: 0.1296, Accuracy: 9783/10000 (98%)\n",
            "\n"
          ],
          "name": "stdout"
        }
      ]
    },
    {
      "cell_type": "code",
      "metadata": {
        "id": "yaYyY3q0T5cM",
        "colab_type": "code",
        "colab": {}
      },
      "source": [
        "# We save the student trained model\n",
        "torch.save(student_model.state_dict(), root_dir+'best_student.pt')"
      ],
      "execution_count": 0,
      "outputs": []
    },
    {
      "cell_type": "code",
      "metadata": {
        "id": "JN0WH1jKVev1",
        "colab_type": "code",
        "colab": {}
      },
      "source": [
        "def test_distillation_adv():\n",
        "    student_model.eval()\n",
        "    test_loss = 0 \n",
        "    correct = 0 \n",
        "    with torch.no_grad():\n",
        "        for data in ex:\n",
        "            output = F.log_softmax(student_model(data[2]))\n",
        "            test_loss += F.nll_loss(output, data[0], size_average=False).item()\n",
        "            pred = output.data.max(1, keepdim=True)[1]\n",
        "            correct += pred.eq(target.data.view_as(pred)).sum()\n",
        "            \n",
        "        test_loss /= len(test_loader.dataset)\n",
        "        test_losses.append(test_loss)\n",
        "        print('\\nTest set: Avg. loss: {:.4f}, Accuracy: {}/{} ({:.0f}%)\\n'.format(\n",
        "            test_loss, correct, len(test_loader.dataset), \n",
        "            100. * correct / len(test_loader.dataset)))"
      ],
      "execution_count": 0,
      "outputs": []
    },
    {
      "cell_type": "code",
      "metadata": {
        "id": "FCU1WZZnYE66",
        "colab_type": "code",
        "colab": {
          "base_uri": "https://localhost:8080/",
          "height": 183
        },
        "outputId": "0806fd46-52e5-46b2-a8d8-618b8df678e9"
      },
      "source": [
        "\n",
        "epsilons = [0, .05, .1, .15, .2, .25, .3, .4, .5]\n",
        "accuracies_adv = []\n",
        "examples_adv = []\n",
        "\n",
        "# Run test for each epsilon\n",
        "for eps in epsilons:\n",
        "    acc, ex = test_fgsm(student_model, device, test_loader, eps)\n",
        "    accuracies_adv.append(acc)\n",
        "    examples_adv.append(ex)"
      ],
      "execution_count": 33,
      "outputs": [
        {
          "output_type": "stream",
          "text": [
            "Epsilon: 0\tTest Accuracy = 9783 / 10000 = 0.9783\n",
            "Epsilon: 0.05\tTest Accuracy = 9474 / 10000 = 0.9474\n",
            "Epsilon: 0.1\tTest Accuracy = 8758 / 10000 = 0.8758\n",
            "Epsilon: 0.15\tTest Accuracy = 7159 / 10000 = 0.7159\n",
            "Epsilon: 0.2\tTest Accuracy = 4668 / 10000 = 0.4668\n",
            "Epsilon: 0.25\tTest Accuracy = 2040 / 10000 = 0.204\n",
            "Epsilon: 0.3\tTest Accuracy = 729 / 10000 = 0.0729\n",
            "Epsilon: 0.4\tTest Accuracy = 47 / 10000 = 0.0047\n",
            "Epsilon: 0.5\tTest Accuracy = 4 / 10000 = 0.0004\n"
          ],
          "name": "stdout"
        }
      ]
    },
    {
      "cell_type": "code",
      "metadata": {
        "id": "Yn8bk3N6FKIu",
        "colab_type": "code",
        "colab": {}
      },
      "source": [
        "for data in ex:\n",
        "  torch.from_numpy(img).float().to(device)\n"
      ],
      "execution_count": 0,
      "outputs": []
    },
    {
      "cell_type": "code",
      "metadata": {
        "colab_type": "code",
        "id": "9l3AVsjyiMDO",
        "colab": {}
      },
      "source": [
        "def evaluate_fgsm( model, device, epsilon ):\n",
        "\n",
        "    # Accuracy counter\n",
        "    correct = 0\n",
        "\n",
        "    # Loop over all examples in test set\n",
        "    for data in ex:\n",
        "\n",
        "        # Collect datagrad\n",
        "        data_grad = data[3].grad.data\n",
        "\n",
        "        # Call FGSM Attack\n",
        "        perturbed_data = fgsm_attack(data[3], epsilon, data_grad)\n",
        "\n",
        "        # classify the perturbed image\n",
        "        output = model(perturbed_data)\n",
        "\n",
        "        # Check for success\n",
        "        final_pred = output.max(1, keepdim=True)[1] # get the index of the max log-probability\n",
        "        if final_pred.item() == data[2].item():\n",
        "            correct += 1\n",
        "            \n",
        "    # Calculate final accuracy for this epsilon\n",
        "    final_acc = correct/float(len(ex))\n",
        "    print(\"Epsilon: {}\\tTest Accuracy = {} / {} = {}\".format(epsilon, correct, len(ex), final_acc))\n",
        "\n",
        "    # Return the accuracy and an adversarial example\n",
        "    return final_acc"
      ],
      "execution_count": 0,
      "outputs": []
    },
    {
      "cell_type": "code",
      "metadata": {
        "id": "nW6qy5bmi-nw",
        "colab_type": "code",
        "colab": {
          "base_uri": "https://localhost:8080/",
          "height": 358
        },
        "outputId": "bcd63deb-a53a-47ed-c340-346556ad97d3"
      },
      "source": [
        "acc_FGSM=evaluate_fgsm( model, device, epsilon )\n",
        "acc_FGSM_defend=evaluate_fgsm( student_model, device, epsilon )\n",
        "print('Accuracy on adversarial samples (FGSM) %.2f'%acc_FGSM)\n",
        "print('Accuracy on adversarial samples (FGSM) after defense %.2f'%acc_FGSM_defend)"
      ],
      "execution_count": 75,
      "outputs": [
        {
          "output_type": "error",
          "ename": "AttributeError",
          "evalue": "ignored",
          "traceback": [
            "\u001b[0;31m---------------------------------------------------------------------------\u001b[0m",
            "\u001b[0;31mAttributeError\u001b[0m                            Traceback (most recent call last)",
            "\u001b[0;32m<ipython-input-75-f6c329666222>\u001b[0m in \u001b[0;36m<module>\u001b[0;34m()\u001b[0m\n\u001b[0;32m----> 1\u001b[0;31m \u001b[0macc_FGSM\u001b[0m\u001b[0;34m=\u001b[0m\u001b[0mevaluate_fgsm\u001b[0m\u001b[0;34m(\u001b[0m \u001b[0mmodel\u001b[0m\u001b[0;34m,\u001b[0m \u001b[0mdevice\u001b[0m\u001b[0;34m,\u001b[0m \u001b[0mepsilon\u001b[0m \u001b[0;34m)\u001b[0m\u001b[0;34m\u001b[0m\u001b[0;34m\u001b[0m\u001b[0m\n\u001b[0m\u001b[1;32m      2\u001b[0m \u001b[0macc_FGSM_defend\u001b[0m\u001b[0;34m=\u001b[0m\u001b[0mevaluate_fgsm\u001b[0m\u001b[0;34m(\u001b[0m \u001b[0mstudent_model\u001b[0m\u001b[0;34m,\u001b[0m \u001b[0mdevice\u001b[0m\u001b[0;34m,\u001b[0m \u001b[0mepsilon\u001b[0m \u001b[0;34m)\u001b[0m\u001b[0;34m\u001b[0m\u001b[0;34m\u001b[0m\u001b[0m\n\u001b[1;32m      3\u001b[0m \u001b[0mprint\u001b[0m\u001b[0;34m(\u001b[0m\u001b[0;34m'Accuracy on adversarial samples (FGSM) %.2f'\u001b[0m\u001b[0;34m%\u001b[0m\u001b[0macc_FGSM\u001b[0m\u001b[0;34m)\u001b[0m\u001b[0;34m\u001b[0m\u001b[0;34m\u001b[0m\u001b[0m\n\u001b[1;32m      4\u001b[0m \u001b[0mprint\u001b[0m\u001b[0;34m(\u001b[0m\u001b[0;34m'Accuracy on adversarial samples (FGSM) after defense %.2f'\u001b[0m\u001b[0;34m%\u001b[0m\u001b[0macc_FGSM_defend\u001b[0m\u001b[0;34m)\u001b[0m\u001b[0;34m\u001b[0m\u001b[0;34m\u001b[0m\u001b[0m\n",
            "\u001b[0;32m<ipython-input-74-a1872e899942>\u001b[0m in \u001b[0;36mevaluate_fgsm\u001b[0;34m(model, device, epsilon)\u001b[0m\n\u001b[1;32m      8\u001b[0m \u001b[0;34m\u001b[0m\u001b[0m\n\u001b[1;32m      9\u001b[0m         \u001b[0;31m# Collect datagrad\u001b[0m\u001b[0;34m\u001b[0m\u001b[0;34m\u001b[0m\u001b[0;34m\u001b[0m\u001b[0m\n\u001b[0;32m---> 10\u001b[0;31m         \u001b[0mdata_grad\u001b[0m \u001b[0;34m=\u001b[0m \u001b[0mdata\u001b[0m\u001b[0;34m[\u001b[0m\u001b[0;36m3\u001b[0m\u001b[0;34m]\u001b[0m\u001b[0;34m.\u001b[0m\u001b[0mgrad\u001b[0m\u001b[0;34m.\u001b[0m\u001b[0mdata\u001b[0m\u001b[0;34m\u001b[0m\u001b[0;34m\u001b[0m\u001b[0m\n\u001b[0m\u001b[1;32m     11\u001b[0m \u001b[0;34m\u001b[0m\u001b[0m\n\u001b[1;32m     12\u001b[0m         \u001b[0;31m# Call FGSM Attack\u001b[0m\u001b[0;34m\u001b[0m\u001b[0;34m\u001b[0m\u001b[0;34m\u001b[0m\u001b[0m\n",
            "\u001b[0;31mAttributeError\u001b[0m: 'NoneType' object has no attribute 'data'"
          ]
        }
      ]
    },
    {
      "cell_type": "markdown",
      "metadata": {
        "colab_type": "text",
        "id": "sIMRqecuymir"
      },
      "source": [
        "### 2.2: Conclusions (15 Points)\n",
        "Please interpret the results of your defense here. \n",
        "\n",
        "* What did you try to make the classifier more robust against FGSM? \n",
        "* Why did it work? \n",
        "* Is the classifier now robust against FGSM?  \n",
        "* ...\n",
        "\n",
        "Feel free to state any interesting finding you encountered during this project."
      ]
    },
    {
      "cell_type": "code",
      "metadata": {
        "colab_type": "code",
        "id": "scROCZjDymit",
        "colab": {}
      },
      "source": [
        ""
      ],
      "execution_count": 0,
      "outputs": []
    }
  ]
}