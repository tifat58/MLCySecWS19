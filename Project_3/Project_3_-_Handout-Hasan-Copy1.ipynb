{
 "cells": [
  {
   "cell_type": "markdown",
   "metadata": {
    "colab_type": "text",
    "id": "4NzyqehHjUlG"
   },
   "source": [
    "# ML in Cybersecurity: Project III\n",
    "\n",
    "## Team\n",
    "  * **Team name**:  *fill this in*\n",
    "  * **Members**:  *fill this in. format: Hasan Md Tusfiqur Alam (s8haalam@stud.uni-saarland.de), name2 (email2), ...*\n",
    "  * **Tutor**: *fill this in*\n",
    "\n",
    "\n",
    "## Logistics\n",
    "  * **Due date**: 12th December 2019, 13:59:59 \n",
    "  * Email the completed notebook to mlcysec_ws1920_staff@lists.cispa.saarland \n",
    "  * Complete this in the previously established **teams of 3**\n",
    "  * Feel free to use the course [mailing list](https://lists.cispa.saarland/listinfo/mlcysec_ws1920_stud) to discuss.\n",
    "  \n",
    "## Timeline\n",
    "  * 28-Nov-2019: Project 3 hand-out\n",
    "  * **12-Dec-2019** (13:59:59): Email completed notebook to mlcysec_ws1920_staff@lists.cispa.saarland\n",
    "\n",
    "  * 19-Dec-2019: Project 3 discussion and summary\n",
    "  \n",
    "  \n",
    "## About this Project\n",
    "In this project, we dive into the vulnerabilities of machine learning models and the difficulties of defending against them. To this end, we require you to implement an evasion attack (craft adversarial examples) yourselves, and defend your own model.   \n",
    "\n",
    "\n",
    "## A Note on Grading\n",
    "The total number of points in this project is 100. We further provide the number of points achievable with each excercise. You should take particular care to document and visualize your results, though.\n",
    "\n",
    "\n",
    " \n",
    "## Filling-in the Notebook\n",
    "You'll be submitting this very notebook that is filled-in with (all!) your code and analysis. Make sure you submit one that has been previously executed in-order. (So that results/graphs are already visible upon opening it). \n",
    "\n",
    "The notebook you submit **should compile** (or should be self-contained and sufficiently commented). Check tutorial 1 on how to set up the Python3 environment.\n",
    "\n",
    "It is extremely important that you **do not** re-order the existing sections. Apart from that, the code blocks that you need to fill-in are given by:\n",
    "```\n",
    "#\n",
    "#\n",
    "# ------- Your Code -------\n",
    "#\n",
    "#\n",
    "```\n",
    "Feel free to break this into multiple-cells. It's even better if you interleave explanations and code-blocks so that the entire notebook forms a readable \"story\".\n",
    "\n",
    "\n",
    "## Code of Honor\n",
    "We encourage discussing ideas and concepts with other students to help you learn and better understand the course content. However, the work you submit and present **must be original** and demonstrate your effort in solving the presented problems. **We will not tolerate** blatantly using existing solutions (such as from the internet), improper collaboration (e.g., sharing code or experimental data between groups) and plagiarism. If the honor code is not met, no points will be awarded.\n",
    "\n",
    " \n",
    " ## Versions\n",
    "  * v1.0: Initial notebook\n",
    "  * v1.1: Clarifications at 1.1.2, 1.2.2, 2.1\n",
    " \n",
    "  ---"
   ]
  },
  {
   "cell_type": "code",
   "execution_count": 12,
   "metadata": {
    "colab": {},
    "colab_type": "code",
    "id": "3ewNwfFvbFaR"
   },
   "outputs": [
    {
     "name": "stdout",
     "output_type": "stream",
     "text": [
      "The autoreload extension is already loaded. To reload it, use:\n",
      "  %reload_ext autoreload\n"
     ]
    }
   ],
   "source": [
    "import time \n",
    " \n",
    "import numpy as np \n",
    "import matplotlib.pyplot as plt \n",
    "\n",
    "import json \n",
    "import time \n",
    "import pickle \n",
    "import sys \n",
    "import csv \n",
    "import os \n",
    "import os.path as osp \n",
    "import shutil \n",
    "\n",
    "import pandas as pd\n",
    "\n",
    "from IPython.display import display, HTML\n",
    " \n",
    "%matplotlib inline \n",
    "plt.rcParams['figure.figsize'] = (10.0, 8.0) # set default size of plots \n",
    "plt.rcParams['image.interpolation'] = 'nearest' \n",
    "plt.rcParams['image.cmap'] = 'gray' \n",
    " \n",
    "# for auto-reloading external modules \n",
    "# see http://stackoverflow.com/questions/1907993/autoreload-of-modules-in-ipython \n",
    "%load_ext autoreload\n",
    "%autoreload 2"
   ]
  },
  {
   "cell_type": "code",
   "execution_count": 13,
   "metadata": {
    "colab": {},
    "colab_type": "code",
    "id": "640GrzbOevr0"
   },
   "outputs": [],
   "source": [
    "# Some suggestions of our libraries that might be helpful for this project\n",
    "from collections import Counter          # an even easier way to count\n",
    "from multiprocessing import Pool         # for multiprocessing\n",
    "from tqdm import tqdm                    # fancy progress bars\n",
    "\n",
    "# Load other libraries here.\n",
    "# Keep it minimal! We should be easily able to reproduce your code.\n",
    "# We only support sklearn and pytorch.\n",
    "import torchvision.datasets as datasets\n",
    "import torchvision.transforms as transforms\n",
    "import torch.utils.data as data\n",
    "\n",
    "# We preload pytorch as an example\n",
    "import torch\n",
    "import torch.nn as nn\n",
    "import torch.nn.functional as F\n",
    "import torch.optim as optim\n",
    "from torch.utils.data import DataLoader, Dataset, TensorDataset\n",
    "import torchvision"
   ]
  },
  {
   "cell_type": "code",
   "execution_count": 14,
   "metadata": {
    "colab": {},
    "colab_type": "code",
    "id": "GJZPEAWYMhYB"
   },
   "outputs": [],
   "source": [
    "compute_mode = 'cpu'\n",
    "\n",
    "if compute_mode == 'cpu':\n",
    "    device = torch.device('cpu')\n",
    "elif compute_mode == 'gpu':\n",
    "    # If you are using pytorch on the GPU cluster, you have to manually specify which GPU device to use\n",
    "    # It is extremely important that you *do not* spawn multi-GPU jobs.\n",
    "    os.environ[\"CUDA_VISIBLE_DEVICES\"] = '0'    # Set device ID here\n",
    "    device = torch.device('cuda')\n",
    "else:\n",
    "    raise ValueError('Unrecognized compute mode')"
   ]
  },
  {
   "cell_type": "markdown",
   "metadata": {
    "colab_type": "text",
    "id": "nxi-lLD0mKHD"
   },
   "source": [
    "#### Helpers\n",
    "\n",
    "In case you choose to have some methods you plan to reuse during the notebook, define them here. This will avoid clutter and keep rest of the notebook succinct."
   ]
  },
  {
   "cell_type": "code",
   "execution_count": 4,
   "metadata": {
    "colab": {},
    "colab_type": "code",
    "id": "VBbigqdEmKd8"
   },
   "outputs": [],
   "source": [
    "def identity_func(foo):\n",
    "    return foo\n",
    "\n",
    "#\n",
    "#\n",
    "# ------- Your Code -------\n",
    "#\n",
    "#"
   ]
  },
  {
   "cell_type": "markdown",
   "metadata": {
    "colab_type": "text",
    "id": "n1pcmKkyjT7y"
   },
   "source": [
    "# 1. Attacking an ML-model\n",
    "\n",
    "In this section, we implement an attack ourselves. We then leverage the Foolbox library to craft adversarial examples. First, however, you need a model you can attack. Feel free to choose the DNN/ConvNN from project 1.\n",
    "\n",
    "Hint: you might want to save the trained model to save time later."
   ]
  },
  {
   "cell_type": "markdown",
   "metadata": {
    "colab_type": "text",
    "id": "QaJv_d_Dp7OM"
   },
   "source": [
    "### 1.1.1: Setting up the model (5 Points)\n",
    "\n",
    "Re-use the model from project 1 here and train it until it achieves reasonable accuracy (>92%)."
   ]
  },
  {
   "cell_type": "code",
   "execution_count": 13,
   "metadata": {
    "colab": {},
    "colab_type": "code",
    "id": "c688qdGtO1v-"
   },
   "outputs": [],
   "source": [
    "#\n",
    "#\n",
    "# ------- Your Code -------\n",
    "#\n",
    "#\n",
    "\n",
    "# (1)load data \n",
    "# (2)define model\n",
    "# (3)define loss, optimizer \n",
    "# (4)train\n",
    "# (5)evaluate\n",
    "# print('Epoch %d, Train acc: %f, Test acc: %f' % (epoch, train_acc, test_acc))"
   ]
  },
  {
   "cell_type": "code",
   "execution_count": 15,
   "metadata": {},
   "outputs": [],
   "source": [
    "batch_size_train = 64 \n",
    "batch_size_test = 1\n",
    "n_epochs = 10\n",
    "learning_rate = 0.01\n",
    "momentum = 0.5\n",
    "\n",
    "train_loader = torch.utils.data.DataLoader(\n",
    "    torchvision.datasets.MNIST('data/mnist/', train=True, download=True,\n",
    "                              transform=torchvision.transforms.Compose([\n",
    "                                  torchvision.transforms.ToTensor()\n",
    "                              ])), batch_size=batch_size_train, shuffle=True)\n",
    "\n",
    "\n",
    "test_loader = torch.utils.data.DataLoader(\n",
    "    torchvision.datasets.MNIST('data/mnist/', train=False, download=True,\n",
    "                              transform=torchvision.transforms.Compose([\n",
    "                                  torchvision.transforms.ToTensor(),\n",
    "                              ])), batch_size=batch_size_test, shuffle=True)\n",
    "\n"
   ]
  },
  {
   "cell_type": "code",
   "execution_count": 16,
   "metadata": {},
   "outputs": [],
   "source": [
    "class Net(nn.Module):\n",
    "\n",
    "    def __init__(self,kernels=5):\n",
    "        super(Net, self).__init__()\n",
    "        # 1 input image channel, 10 output channels, 5x5 square convolution\n",
    "        # kernel \n",
    "        self.conv1 = nn.Conv2d(1, 10, kernel_size=kernels)\n",
    "        self.conv2 = nn.Conv2d(10, 20, kernel_size=kernels)\n",
    "        self.conv2_drop = nn.Dropout2d()\n",
    "        self.fc1 = nn.Linear(320, 50)\n",
    "        self.fc2 = nn.Linear(50, 10)\n",
    "\n",
    "        \n",
    "    def forward(self, x):\n",
    "        x = F.relu(F.max_pool2d(self.conv1(x), 2))\n",
    "        x = F.relu(F.max_pool2d(self.conv2_drop(self.conv2(x)), 2))\n",
    "        x = x.view(-1, self.num_flat_features(x))\n",
    "        x = F.relu(self.fc1(x))\n",
    "        x = F.dropout(x, training=self.training)\n",
    "        x = self.fc2(x)\n",
    "        return F.log_softmax(x)\n",
    "\n",
    "\n",
    "    def num_flat_features(self, x):\n",
    "        size = x.size()[1:]  # all dimensions except the batch dimension\n",
    "        num_features = 1\n",
    "        for s in size:\n",
    "            num_features *= s\n",
    "        return num_features"
   ]
  },
  {
   "cell_type": "code",
   "execution_count": 17,
   "metadata": {},
   "outputs": [],
   "source": [
    "def train(n_epochs):\n",
    "    net.train()\n",
    "    for batch_idx, (data, target) in enumerate(train_loader):\n",
    "        optimizer.zero_grad()\n",
    "        output = net(data)\n",
    "        loss = F.nll_loss(output, target)\n",
    "        loss.backward()\n",
    "        optimizer.step()\n",
    "        if batch_idx % 100 == 0:\n",
    "            print('Train Epoch: {} [{}/{} ({:.0f}%)]\\tLoss: {:.6f}'.format(\n",
    "                epoch, batch_idx * len(data), len(train_loader.dataset), \n",
    "                100. * batch_idx / len(train_loader), loss.item()))\n",
    "\n",
    "            train_counter.append(\n",
    "                (batch_idx*64) + ((epoch-1)*len(train_loader.dataset)))\n",
    "            \n",
    "            torch.save(net.state_dict(), 'model_3.pth')\n",
    "    train_losses.append(loss.item()) "
   ]
  },
  {
   "cell_type": "code",
   "execution_count": 18,
   "metadata": {},
   "outputs": [],
   "source": [
    "def test():\n",
    "    net.eval()\n",
    "    test_loss = 0 \n",
    "    correct = 0 \n",
    "    with torch.no_grad():\n",
    "        for data, target in test_loader:\n",
    "            output = net(data)\n",
    "            test_loss += F.nll_loss(output, target, size_average=False).item()\n",
    "            pred = output.data.max(1, keepdim=True)[1]\n",
    "            correct += pred.eq(target.data.view_as(pred)).sum()\n",
    "            \n",
    "        test_loss /= len(test_loader.dataset)\n",
    "        test_losses.append(test_loss)\n",
    "        print('\\nTest set: Avg. loss: {:.4f}, Accuracy: {}/{} ({:.0f}%)\\n'.format(\n",
    "            test_loss, correct, len(test_loader.dataset), \n",
    "            100. * correct / len(test_loader.dataset)))"
   ]
  },
  {
   "cell_type": "code",
   "execution_count": 19,
   "metadata": {},
   "outputs": [
    {
     "name": "stderr",
     "output_type": "stream",
     "text": [
      "C:\\ProgramData\\Miniconda3\\envs\\DSP\\lib\\site-packages\\ipykernel_launcher.py:21: UserWarning: Implicit dimension choice for log_softmax has been deprecated. Change the call to include dim=X as an argument.\n"
     ]
    },
    {
     "name": "stdout",
     "output_type": "stream",
     "text": [
      "Train Epoch: 1 [0/60000 (0%)]\tLoss: 2.300010\n",
      "Train Epoch: 1 [6400/60000 (11%)]\tLoss: 2.297660\n",
      "Train Epoch: 1 [12800/60000 (21%)]\tLoss: 2.232027\n",
      "Train Epoch: 1 [19200/60000 (32%)]\tLoss: 1.674105\n",
      "Train Epoch: 1 [25600/60000 (43%)]\tLoss: 1.196652\n",
      "Train Epoch: 1 [32000/60000 (53%)]\tLoss: 1.100344\n",
      "Train Epoch: 1 [38400/60000 (64%)]\tLoss: 0.804649\n",
      "Train Epoch: 1 [44800/60000 (75%)]\tLoss: 0.653243\n",
      "Train Epoch: 1 [51200/60000 (85%)]\tLoss: 0.618506\n",
      "Train Epoch: 1 [57600/60000 (96%)]\tLoss: 0.950565\n"
     ]
    },
    {
     "name": "stderr",
     "output_type": "stream",
     "text": [
      "C:\\ProgramData\\Miniconda3\\envs\\DSP\\lib\\site-packages\\torch\\nn\\_reduction.py:43: UserWarning: size_average and reduce args will be deprecated, please use reduction='sum' instead.\n",
      "  warnings.warn(warning.format(ret))\n"
     ]
    },
    {
     "name": "stdout",
     "output_type": "stream",
     "text": [
      "\n",
      "Test set: Avg. loss: 0.2834, Accuracy: 9210/10000 (92%)\n",
      "\n",
      "Train Epoch: 2 [0/60000 (0%)]\tLoss: 0.608039\n",
      "Train Epoch: 2 [6400/60000 (11%)]\tLoss: 0.638944\n",
      "Train Epoch: 2 [12800/60000 (21%)]\tLoss: 0.410138\n",
      "Train Epoch: 2 [19200/60000 (32%)]\tLoss: 0.572444\n",
      "Train Epoch: 2 [25600/60000 (43%)]\tLoss: 0.799574\n",
      "Train Epoch: 2 [32000/60000 (53%)]\tLoss: 0.388006\n",
      "Train Epoch: 2 [38400/60000 (64%)]\tLoss: 0.429346\n",
      "Train Epoch: 2 [44800/60000 (75%)]\tLoss: 0.537023\n",
      "Train Epoch: 2 [51200/60000 (85%)]\tLoss: 0.457662\n",
      "Train Epoch: 2 [57600/60000 (96%)]\tLoss: 0.480823\n",
      "\n",
      "Test set: Avg. loss: 0.1746, Accuracy: 9491/10000 (94%)\n",
      "\n",
      "Train Epoch: 3 [0/60000 (0%)]\tLoss: 0.438317\n",
      "Train Epoch: 3 [6400/60000 (11%)]\tLoss: 0.199347\n",
      "Train Epoch: 3 [12800/60000 (21%)]\tLoss: 0.347138\n",
      "Train Epoch: 3 [19200/60000 (32%)]\tLoss: 0.492071\n",
      "Train Epoch: 3 [25600/60000 (43%)]\tLoss: 0.234883\n",
      "Train Epoch: 3 [32000/60000 (53%)]\tLoss: 0.380258\n",
      "Train Epoch: 3 [38400/60000 (64%)]\tLoss: 0.255250\n",
      "Train Epoch: 3 [44800/60000 (75%)]\tLoss: 0.215950\n",
      "Train Epoch: 3 [51200/60000 (85%)]\tLoss: 0.400252\n",
      "Train Epoch: 3 [57600/60000 (96%)]\tLoss: 0.580428\n",
      "\n",
      "Test set: Avg. loss: 0.1418, Accuracy: 9575/10000 (95%)\n",
      "\n",
      "Train Epoch: 4 [0/60000 (0%)]\tLoss: 0.225975\n",
      "Train Epoch: 4 [6400/60000 (11%)]\tLoss: 0.250872\n",
      "Train Epoch: 4 [12800/60000 (21%)]\tLoss: 0.310812\n",
      "Train Epoch: 4 [19200/60000 (32%)]\tLoss: 0.398362\n",
      "Train Epoch: 4 [25600/60000 (43%)]\tLoss: 0.276873\n",
      "Train Epoch: 4 [32000/60000 (53%)]\tLoss: 0.237323\n",
      "Train Epoch: 4 [38400/60000 (64%)]\tLoss: 0.373970\n",
      "Train Epoch: 4 [44800/60000 (75%)]\tLoss: 0.090232\n",
      "Train Epoch: 4 [51200/60000 (85%)]\tLoss: 0.352930\n",
      "Train Epoch: 4 [57600/60000 (96%)]\tLoss: 0.342768\n",
      "\n",
      "Test set: Avg. loss: 0.1161, Accuracy: 9622/10000 (96%)\n",
      "\n",
      "Train Epoch: 5 [0/60000 (0%)]\tLoss: 0.258602\n",
      "Train Epoch: 5 [6400/60000 (11%)]\tLoss: 0.295241\n",
      "Train Epoch: 5 [12800/60000 (21%)]\tLoss: 0.384391\n",
      "Train Epoch: 5 [19200/60000 (32%)]\tLoss: 0.296917\n",
      "Train Epoch: 5 [25600/60000 (43%)]\tLoss: 0.284142\n",
      "Train Epoch: 5 [32000/60000 (53%)]\tLoss: 0.173678\n",
      "Train Epoch: 5 [38400/60000 (64%)]\tLoss: 0.265337\n",
      "Train Epoch: 5 [44800/60000 (75%)]\tLoss: 0.250525\n",
      "Train Epoch: 5 [51200/60000 (85%)]\tLoss: 0.312921\n",
      "Train Epoch: 5 [57600/60000 (96%)]\tLoss: 0.299070\n",
      "\n",
      "Test set: Avg. loss: 0.1037, Accuracy: 9685/10000 (96%)\n",
      "\n",
      "Train Epoch: 6 [0/60000 (0%)]\tLoss: 0.116465\n",
      "Train Epoch: 6 [6400/60000 (11%)]\tLoss: 0.516209\n",
      "Train Epoch: 6 [12800/60000 (21%)]\tLoss: 0.247377\n",
      "Train Epoch: 6 [19200/60000 (32%)]\tLoss: 0.280224\n",
      "Train Epoch: 6 [25600/60000 (43%)]\tLoss: 0.192659\n",
      "Train Epoch: 6 [32000/60000 (53%)]\tLoss: 0.238121\n",
      "Train Epoch: 6 [38400/60000 (64%)]\tLoss: 0.268001\n",
      "Train Epoch: 6 [44800/60000 (75%)]\tLoss: 0.419206\n",
      "Train Epoch: 6 [51200/60000 (85%)]\tLoss: 0.208135\n",
      "Train Epoch: 6 [57600/60000 (96%)]\tLoss: 0.202604\n",
      "\n",
      "Test set: Avg. loss: 0.0925, Accuracy: 9705/10000 (97%)\n",
      "\n",
      "Train Epoch: 7 [0/60000 (0%)]\tLoss: 0.145121\n",
      "Train Epoch: 7 [6400/60000 (11%)]\tLoss: 0.173684\n",
      "Train Epoch: 7 [12800/60000 (21%)]\tLoss: 0.124626\n",
      "Train Epoch: 7 [19200/60000 (32%)]\tLoss: 0.180257\n",
      "Train Epoch: 7 [25600/60000 (43%)]\tLoss: 0.239762\n",
      "Train Epoch: 7 [32000/60000 (53%)]\tLoss: 0.151372\n",
      "Train Epoch: 7 [38400/60000 (64%)]\tLoss: 0.504616\n",
      "Train Epoch: 7 [44800/60000 (75%)]\tLoss: 0.368797\n",
      "Train Epoch: 7 [51200/60000 (85%)]\tLoss: 0.232428\n",
      "Train Epoch: 7 [57600/60000 (96%)]\tLoss: 0.572694\n",
      "\n",
      "Test set: Avg. loss: 0.0855, Accuracy: 9722/10000 (97%)\n",
      "\n",
      "Train Epoch: 8 [0/60000 (0%)]\tLoss: 0.249626\n",
      "Train Epoch: 8 [6400/60000 (11%)]\tLoss: 0.197779\n",
      "Train Epoch: 8 [12800/60000 (21%)]\tLoss: 0.259632\n",
      "Train Epoch: 8 [19200/60000 (32%)]\tLoss: 0.226188\n",
      "Train Epoch: 8 [25600/60000 (43%)]\tLoss: 0.093459\n",
      "Train Epoch: 8 [32000/60000 (53%)]\tLoss: 0.201558\n",
      "Train Epoch: 8 [38400/60000 (64%)]\tLoss: 0.236885\n",
      "Train Epoch: 8 [44800/60000 (75%)]\tLoss: 0.254307\n",
      "Train Epoch: 8 [51200/60000 (85%)]\tLoss: 0.194092\n",
      "Train Epoch: 8 [57600/60000 (96%)]\tLoss: 0.403406\n",
      "\n",
      "Test set: Avg. loss: 0.0779, Accuracy: 9760/10000 (97%)\n",
      "\n",
      "Train Epoch: 9 [0/60000 (0%)]\tLoss: 0.267796\n",
      "Train Epoch: 9 [6400/60000 (11%)]\tLoss: 0.250342\n",
      "Train Epoch: 9 [12800/60000 (21%)]\tLoss: 0.295577\n",
      "Train Epoch: 9 [19200/60000 (32%)]\tLoss: 0.396920\n",
      "Train Epoch: 9 [25600/60000 (43%)]\tLoss: 0.135104\n",
      "Train Epoch: 9 [32000/60000 (53%)]\tLoss: 0.291282\n",
      "Train Epoch: 9 [38400/60000 (64%)]\tLoss: 0.341806\n",
      "Train Epoch: 9 [44800/60000 (75%)]\tLoss: 0.204940\n",
      "Train Epoch: 9 [51200/60000 (85%)]\tLoss: 0.143022\n",
      "Train Epoch: 9 [57600/60000 (96%)]\tLoss: 0.172557\n",
      "\n",
      "Test set: Avg. loss: 0.0759, Accuracy: 9756/10000 (97%)\n",
      "\n"
     ]
    }
   ],
   "source": [
    "train_losses = []\n",
    "train_counter = []\n",
    "test_losses = []\n",
    "train_accuracies = []\n",
    "test_accuracies = []\n",
    "test_counter = [i*len(train_loader.dataset) for i in range(n_epochs + 1)]\n",
    "net = Net()\n",
    "optimizer = optim.SGD(net.parameters(), lr= learning_rate, momentum=momentum)\n",
    "\n",
    "for epoch in range(1, n_epochs):\n",
    "    train(epoch)\n",
    "    test()"
   ]
  },
  {
   "cell_type": "code",
   "execution_count": 20,
   "metadata": {},
   "outputs": [],
   "source": [
    "# net.save_state_dict('best_model.pt')\n",
    "torch.save(net.state_dict(), 'best_model.pth')"
   ]
  },
  {
   "cell_type": "markdown",
   "metadata": {
    "colab_type": "text",
    "id": "DEQrdyLHsUIu"
   },
   "source": [
    "### 1.1.2: Implementing an attack (15 Points)\n",
    "\n",
    "We now want you to attack the model trained in the previous step. Please implement the FGSM attack mentioned in the lecture. "
   ]
  },
  {
   "cell_type": "code",
   "execution_count": 21,
   "metadata": {
    "colab": {},
    "colab_type": "code",
    "id": "gcVZnUNbRKOz"
   },
   "outputs": [],
   "source": [
    "def fgsm_attack(image, epsilon, data_grad):\n",
    "    # Collect the element-wise sign of the data gradient\n",
    "    sign_data_grad = data_grad.sign()\n",
    "    # Create the perturbed image by adjusting each pixel of the input image\n",
    "    perturbed_image = image + epsilon*sign_data_grad\n",
    "    # Adding clipping to maintain [0,1] range\n",
    "    perturbed_image = torch.clamp(perturbed_image, 0, 1)\n",
    "    # Return the perturbed image\n",
    "    return perturbed_image"
   ]
  },
  {
   "cell_type": "code",
   "execution_count": 29,
   "metadata": {},
   "outputs": [],
   "source": [
    "def test_fgsm(model, test_loader, epsilon, device):\n",
    "    \n",
    "    correct = 0\n",
    "    adv_examples = []\n",
    "    \n",
    "    for img, target in test_loader:\n",
    "        img, target = img.to(device), target.to(device)\n",
    "        img.requires_grad = True\n",
    "        \n",
    "        output = model(img)\n",
    "        initial_prediction = output.max(1, keepdim=True)[1]\n",
    "        if initial_prediction.item() != target.item():\n",
    "            continue # If initial prediction is wrong then don't even attack\n",
    "            \n",
    "        loss = F.nll_loss(output, target)\n",
    "        model.zero_grad()\n",
    "        loss.backward()\n",
    "        data_grad = img.grad.data\n",
    "        \n",
    "        # calling fgsm_attack\n",
    "        perturbed_img = fgsm_attack(img, epsilon, data_grad)\n",
    "        # reclassify perturbed image\n",
    "        output = model(perturbed_img)\n",
    "        \n",
    "        final_prediction = output.max(1, keepdim=True)[1]\n",
    "        if final_prediction.item() == target.item():\n",
    "            correct += 1\n",
    "            \n",
    "            if (epsilon == 0) and (len(adv_examples) < 100):\n",
    "                adv_ex = perturbed_img.squeeze().detach().cpu().numpy()\n",
    "                adv_examples.append( (initial_prediction.item(), final_prediction.item(), adv_ex) )\n",
    "        \n",
    "        else:\n",
    "            if len(adv_examples) < 100:\n",
    "                adv_ex = perturbed_img.squeeze().detach().cpu().numpy()\n",
    "                adv_examples.append( (initial_prediction.item(), final_prediction.item(), adv_ex) )\n",
    "                \n",
    "\n",
    "    # Calculate final accuracy for this epsilon\n",
    "    final_acc = correct/float(len(test_loader))\n",
    "    print(\"Epsilon: {}\\tTest Accuracy = {} / {} = {}\".format(epsilon, correct, len(test_loader), final_acc))\n",
    "\n",
    "    # Return the accuracy and an adversarial example\n",
    "    return final_acc, adv_examples"
   ]
  },
  {
   "cell_type": "code",
   "execution_count": 22,
   "metadata": {},
   "outputs": [],
   "source": [
    "# def test_fgsm( model, device, test_loader, epsilon ):\n",
    "\n",
    "#     # Accuracy counter\n",
    "#     correct = 0\n",
    "#     adv_examples = []\n",
    "\n",
    "#     # Loop over all examples in test set\n",
    "#     for data, target in test_loader:\n",
    "\n",
    "#         # Send the data and label to the device\n",
    "#         data, target = data.to(device), target.to(device)\n",
    "\n",
    "#         # Set requires_grad attribute of tensor. Important for Attack\n",
    "#         data.requires_grad = True\n",
    "\n",
    "#         # Forward pass the data through the model\n",
    "#         output = model(data)\n",
    "#         init_pred = output.max(1, keepdim=True)[1] # get the index of the max log-probability\n",
    "\n",
    "#         # If the initial prediction is wrong, dont bother attacking, just move on\n",
    "#         if init_pred.item() != target.item():\n",
    "#             continue\n",
    "\n",
    "#         # Calculate the loss\n",
    "#         loss = F.nll_loss(output, target)\n",
    "\n",
    "#         # Zero all existing gradients\n",
    "#         model.zero_grad()\n",
    "\n",
    "#         # Calculate gradients of model in backward pass\n",
    "#         loss.backward()\n",
    "\n",
    "#         # Collect datagrad\n",
    "#         data_grad = data.grad.data\n",
    "\n",
    "#         # Call FGSM Attack\n",
    "#         perturbed_data = fgsm_attack(data, epsilon, data_grad)\n",
    "\n",
    "#         # Re-classify the perturbed image\n",
    "#         output = model(perturbed_data)\n",
    "\n",
    "#         # Check for success\n",
    "#         final_pred = output.max(1, keepdim=True)[1] # get the index of the max log-probability\n",
    "#         if final_pred.item() == target.item():\n",
    "#             correct += 1\n",
    "#             # Special case for saving 0 epsilon examples\n",
    "#             if (epsilon == 0) and (len(adv_examples) < 1000):\n",
    "#                 adv_ex = perturbed_data.squeeze().detach().cpu().numpy()\n",
    "#                 adv_examples.append( (init_pred.item(), final_pred.item(), adv_ex) )\n",
    "#         else:\n",
    "#             # Save some adv examples for visualization later\n",
    "#             if len(adv_examples) < 1000:\n",
    "#                 adv_ex = perturbed_data.squeeze().detach().cpu().numpy()\n",
    "#                 adv_examples.append( (init_pred.item(), final_pred.item(), adv_ex) )\n",
    "\n",
    "#     # Calculate final accuracy for this epsilon\n",
    "#     final_acc = correct/float(len(test_loader))\n",
    "#     print(\"Epsilon: {}\\tTest Accuracy = {} / {} = {}\".format(epsilon, correct, len(test_loader), final_acc))\n",
    "\n",
    "#     # Return the accuracy and an adversarial example\n",
    "#     return final_acc, adv_examples"
   ]
  },
  {
   "cell_type": "code",
   "execution_count": 30,
   "metadata": {},
   "outputs": [
    {
     "data": {
      "text/plain": [
       "<All keys matched successfully>"
      ]
     },
     "execution_count": 30,
     "metadata": {},
     "output_type": "execute_result"
    }
   ],
   "source": [
    "model = Net()\n",
    "model.load_state_dict(torch.load('best_model.pth'), strict=False)"
   ]
  },
  {
   "cell_type": "code",
   "execution_count": 29,
   "metadata": {},
   "outputs": [],
   "source": [
    "# test_loader = torch.utils.data.DataLoader(\n",
    "#     torchvision.datasets.MNIST('data/mnist/', train=False, download=True,\n",
    "#                               transform=torchvision.transforms.Compose([\n",
    "#                                   torchvision.transforms.ToTensor(),\n",
    "#                               ])), batch_size=1, shuffle=True)\n"
   ]
  },
  {
   "cell_type": "code",
   "execution_count": 31,
   "metadata": {},
   "outputs": [
    {
     "name": "stderr",
     "output_type": "stream",
     "text": [
      "C:\\ProgramData\\Miniconda3\\envs\\DSP\\lib\\site-packages\\ipykernel_launcher.py:21: UserWarning: Implicit dimension choice for log_softmax has been deprecated. Change the call to include dim=X as an argument.\n"
     ]
    },
    {
     "name": "stdout",
     "output_type": "stream",
     "text": [
      "Epsilon: 0\tTest Accuracy = 8965 / 10000 = 0.8965\n",
      "Epsilon: 0.05\tTest Accuracy = 8619 / 10000 = 0.8619\n",
      "Epsilon: 0.1\tTest Accuracy = 7898 / 10000 = 0.7898\n",
      "Epsilon: 0.15\tTest Accuracy = 6833 / 10000 = 0.6833\n",
      "Epsilon: 0.2\tTest Accuracy = 5372 / 10000 = 0.5372\n",
      "Epsilon: 0.25\tTest Accuracy = 3898 / 10000 = 0.3898\n",
      "Epsilon: 0.3\tTest Accuracy = 2549 / 10000 = 0.2549\n",
      "Epsilon: 0.4\tTest Accuracy = 1079 / 10000 = 0.1079\n",
      "Epsilon: 0.5\tTest Accuracy = 572 / 10000 = 0.0572\n"
     ]
    }
   ],
   "source": [
    "\n",
    "epsilons = [0, .05, .1, .15, .2, .25, .3, .4, .5]\n",
    "accuracies = []\n",
    "examples = []\n",
    "\n",
    "# Run test for each epsilon\n",
    "for eps in epsilons:\n",
    "    acc, ex = test_fgsm(model, test_loader, eps, device)\n",
    "    accuracies.append(acc)\n",
    "    examples.append(ex)"
   ]
  },
  {
   "cell_type": "code",
   "execution_count": 34,
   "metadata": {},
   "outputs": [
    {
     "data": {
      "image/png": "[encoded data removed]",
      "text/plain": [
       "<Figure size 432x432 with 1 Axes>"
      ]
     },
     "metadata": {
      "needs_background": "light"
     },
     "output_type": "display_data"
    }
   ],
   "source": [
    "plt.figure(figsize=(6,6))\n",
    "plt.plot(epsilons, accuracies, \"*-\")\n",
    "plt.yticks(np.arange(0, 1.1, step=0.1))\n",
    "plt.xticks(np.arange(0, .55, step=0.05))\n",
    "plt.title(\"Accuracy vs Epsilon\")\n",
    "plt.xlabel(\"Epsilon\")\n",
    "plt.ylabel(\"Accuracy\")\n",
    "plt.show()"
   ]
  },
  {
   "cell_type": "markdown",
   "metadata": {
    "colab_type": "text",
    "id": "RNpI3oUoO1wE"
   },
   "source": [
    "### 1.1.3: adversarial sample set (5 Points)\n",
    "\n",
    "Please additionally generate a dataset containing at least 1,000 adversarial examples using FGSM."
   ]
  },
  {
   "cell_type": "code",
   "execution_count": null,
   "metadata": {
    "colab": {},
    "colab_type": "code",
    "id": "EvYpo9p2O1wF"
   },
   "outputs": [],
   "source": [
    "#\n",
    "#\n",
    "# ------- Your Code -------\n",
    "#\n",
    "#\n",
    "print('test')"
   ]
  },
  {
   "cell_type": "code",
   "execution_count": 48,
   "metadata": {},
   "outputs": [
    {
     "name": "stdout",
     "output_type": "stream",
     "text": [
      "[[0.         0.         0.         0.         0.         0.\n",
      "  0.         0.         0.         0.         0.         0.\n",
      "  0.         0.         0.         0.         0.         0.\n",
      "  0.         0.         0.         0.         0.         0.\n",
      "  0.         0.         0.         0.        ]\n",
      " [0.         0.         0.         0.         0.         0.\n",
      "  0.         0.         0.         0.         0.         0.\n",
      "  0.         0.         0.         0.         0.         0.\n",
      "  0.         0.         0.         0.         0.         0.\n",
      "  0.         0.         0.         0.        ]\n",
      " [0.         0.         0.         0.         0.         0.\n",
      "  0.         0.         0.         0.         0.         0.\n",
      "  0.         0.         0.         0.         0.         0.\n",
      "  0.         0.         0.         0.         0.         0.\n",
      "  0.         0.         0.         0.        ]\n",
      " [0.         0.         0.         0.         0.         0.\n",
      "  0.         0.         0.         0.         0.         0.\n",
      "  0.         0.         0.         0.         0.         0.\n",
      "  0.         0.         0.         0.         0.         0.\n",
      "  0.         0.         0.         0.        ]\n",
      " [0.         0.         0.         0.         0.         0.\n",
      "  0.         0.         0.         0.         0.         0.\n",
      "  0.         0.         0.         0.         0.         0.\n",
      "  0.         0.         0.         0.         0.         0.\n",
      "  0.         0.         0.         0.        ]\n",
      " [0.         0.         0.         0.         0.         0.\n",
      "  0.         0.         0.         0.         0.         0.\n",
      "  0.         0.         0.         0.         0.         0.\n",
      "  0.05882353 0.2627451  0.2509804  0.         0.         0.\n",
      "  0.         0.         0.         0.        ]\n",
      " [0.         0.         0.         0.         0.         0.\n",
      "  0.         0.         0.         0.         0.         0.\n",
      "  0.         0.         0.         0.         0.15686275 0.43137255\n",
      "  0.8627451  0.99215686 0.96862745 0.15294118 0.         0.\n",
      "  0.         0.         0.         0.        ]\n",
      " [0.         0.         0.         0.         0.         0.\n",
      "  0.         0.         0.         0.         0.         0.\n",
      "  0.         0.03921569 0.3372549  0.8235294  0.96862745 0.99215686\n",
      "  0.99215686 0.99215686 0.99215686 0.7058824  0.17254902 0.\n",
      "  0.         0.         0.         0.        ]\n",
      " [0.         0.         0.         0.         0.         0.\n",
      "  0.         0.         0.         0.         0.         0.\n",
      "  0.16470589 0.74509805 0.99607843 0.99215686 0.99215686 0.99215686\n",
      "  0.99215686 0.91764706 0.88235295 0.99215686 0.8901961  0.18039216\n",
      "  0.         0.         0.         0.        ]\n",
      " [0.         0.         0.         0.         0.         0.\n",
      "  0.         0.         0.         0.         0.01568628 0.42745098\n",
      "  0.9372549  0.99215686 0.99607843 0.99215686 0.99215686 0.99215686\n",
      "  0.67058825 0.14117648 0.12156863 0.85882354 0.99215686 0.56078434\n",
      "  0.         0.         0.         0.        ]\n",
      " [0.         0.         0.         0.         0.         0.\n",
      "  0.         0.         0.         0.1882353  0.6901961  0.99215686\n",
      "  0.99215686 0.9764706  0.7058824  0.5137255  0.6862745  0.49803922\n",
      "  0.03137255 0.         0.         0.21176471 0.99215686 0.95686275\n",
      "  0.         0.         0.         0.        ]\n",
      " [0.         0.         0.         0.         0.         0.\n",
      "  0.         0.         0.21176471 0.9098039  0.99215686 0.99215686\n",
      "  0.8627451  0.27450982 0.         0.         0.         0.\n",
      "  0.         0.         0.00784314 0.31764707 0.99215686 0.99215686\n",
      "  0.         0.         0.         0.        ]\n",
      " [0.         0.         0.         0.         0.         0.\n",
      "  0.         0.2        0.90588236 0.99215686 0.99215686 0.73333335\n",
      "  0.06666667 0.         0.         0.         0.         0.\n",
      "  0.         0.         0.1764706  0.99215686 0.99215686 0.67058825\n",
      "  0.         0.         0.         0.        ]\n",
      " [0.         0.         0.         0.         0.         0.\n",
      "  0.34509805 0.93333334 0.99215686 0.99215686 0.3882353  0.05098039\n",
      "  0.         0.         0.         0.         0.         0.\n",
      "  0.         0.15294118 0.8901961  0.99215686 0.8627451  0.12941177\n",
      "  0.         0.         0.         0.        ]\n",
      " [0.         0.         0.         0.         0.         0.03529412\n",
      "  0.8509804  0.99607843 0.96862745 0.1882353  0.         0.\n",
      "  0.         0.         0.         0.         0.         0.01176471\n",
      "  0.50980395 0.99607843 0.99607843 0.9764706  0.22745098 0.\n",
      "  0.         0.         0.         0.        ]\n",
      " [0.         0.         0.         0.         0.         0.56078434\n",
      "  0.99215686 0.972549   0.3882353  0.         0.         0.\n",
      "  0.         0.         0.         0.         0.10588235 0.7019608\n",
      "  0.99215686 0.99215686 0.9647059  0.2509804  0.         0.\n",
      "  0.         0.         0.         0.        ]\n",
      " [0.         0.         0.         0.         0.28235295 0.9411765\n",
      "  0.99215686 0.7372549  0.         0.         0.         0.\n",
      "  0.         0.         0.05490196 0.5019608  0.8901961  0.99215686\n",
      "  0.99215686 0.85882354 0.2        0.         0.         0.\n",
      "  0.         0.         0.         0.        ]\n",
      " [0.         0.         0.         0.         0.7921569  0.99215686\n",
      "  0.7882353  0.03921569 0.         0.         0.         0.\n",
      "  0.02745098 0.47058824 0.9647059  0.99215686 0.99215686 0.68235296\n",
      "  0.38039216 0.02745098 0.         0.         0.         0.\n",
      "  0.         0.         0.         0.        ]\n",
      " [0.         0.         0.         0.         0.99607843 0.99215686\n",
      "  0.6039216  0.         0.05098039 0.21960784 0.21960784 0.4862745\n",
      "  0.75686276 0.99215686 1.         0.9372549  0.6039216  0.01568628\n",
      "  0.         0.         0.         0.         0.         0.\n",
      "  0.         0.         0.         0.        ]\n",
      " [0.         0.         0.         0.         0.99607843 0.99215686\n",
      "  0.9098039  0.78039217 0.827451   0.99215686 0.99215686 0.99215686\n",
      "  0.99215686 0.99215686 0.8        0.2901961  0.         0.\n",
      "  0.         0.         0.         0.         0.         0.\n",
      "  0.         0.         0.         0.        ]\n",
      " [0.         0.         0.         0.         0.5803922  0.99215686\n",
      "  0.99215686 0.99215686 0.99215686 0.99215686 0.972549   0.8745098\n",
      "  0.5137255  0.32941177 0.03921569 0.         0.         0.\n",
      "  0.         0.         0.         0.         0.         0.\n",
      "  0.         0.         0.         0.        ]\n",
      " [0.         0.         0.         0.         0.05098039 0.6901961\n",
      "  0.81960785 0.81960785 0.81960785 0.48235294 0.20392157 0.\n",
      "  0.         0.         0.         0.         0.         0.\n",
      "  0.         0.         0.         0.         0.         0.\n",
      "  0.         0.         0.         0.        ]\n",
      " [0.         0.         0.         0.         0.         0.\n",
      "  0.         0.         0.         0.         0.         0.\n",
      "  0.         0.         0.         0.         0.         0.\n",
      "  0.         0.         0.         0.         0.         0.\n",
      "  0.         0.         0.         0.        ]\n",
      " [0.         0.         0.         0.         0.         0.\n",
      "  0.         0.         0.         0.         0.         0.\n",
      "  0.         0.         0.         0.         0.         0.\n",
      "  0.         0.         0.         0.         0.         0.\n",
      "  0.         0.         0.         0.        ]\n",
      " [0.         0.         0.         0.         0.         0.\n",
      "  0.         0.         0.         0.         0.         0.\n",
      "  0.         0.         0.         0.         0.         0.\n",
      "  0.         0.         0.         0.         0.         0.\n",
      "  0.         0.         0.         0.        ]\n",
      " [0.         0.         0.         0.         0.         0.\n",
      "  0.         0.         0.         0.         0.         0.\n",
      "  0.         0.         0.         0.         0.         0.\n",
      "  0.         0.         0.         0.         0.         0.\n",
      "  0.         0.         0.         0.        ]\n",
      " [0.         0.         0.         0.         0.         0.\n",
      "  0.         0.         0.         0.         0.         0.\n",
      "  0.         0.         0.         0.         0.         0.\n",
      "  0.         0.         0.         0.         0.         0.\n",
      "  0.         0.         0.         0.        ]\n",
      " [0.         0.         0.         0.         0.         0.\n",
      "  0.         0.         0.         0.         0.         0.\n",
      "  0.         0.         0.         0.         0.         0.\n",
      "  0.         0.         0.         0.         0.         0.\n"
     ]
    },
    {
     "name": "stdout",
     "output_type": "stream",
     "text": [
      "  0.         0.         0.         0.        ]]\n"
     ]
    }
   ],
   "source": [
    "print(examples[0][1][2])"
   ]
  },
  {
   "cell_type": "markdown",
   "metadata": {
    "colab_type": "text",
    "id": "Ex3qQp3JolD1"
   },
   "source": [
    "### 1.1.3: Visualizing the results (5 Points)\n",
    "\n",
    "Please chose one sample for each class (for example the first when iterating the test data) and plot the (ten) adversarial examples as well as the predicted label (before and after the attack)"
   ]
  },
  {
   "cell_type": "code",
   "execution_count": 40,
   "metadata": {
    "colab": {},
    "colab_type": "code",
    "id": "eGkp0B0PO1wJ"
   },
   "outputs": [
    {
     "data": {
      "image/png": "[encoded data removed]",
      "text/plain": [
       "<Figure size 1080x1080 with 90 Axes>"
      ]
     },
     "metadata": {},
     "output_type": "display_data"
    }
   ],
   "source": [
    "#\n",
    "#\n",
    "# ------- Your Code -------\n",
    "#\n",
    "#\n",
    "cnt = 0\n",
    "plt.figure(figsize=(15,15))\n",
    "for i in range(len(epsilons)):\n",
    "    \n",
    "    for j in range(10):\n",
    "        cnt += 1\n",
    "        plt.subplot(len(epsilons),10,cnt)\n",
    "        plt.xticks([], [])\n",
    "        plt.yticks([], [])\n",
    "        if j == 0:\n",
    "            plt.ylabel(\"Eps: {}\".format(epsilons[i]), fontsize=14)\n",
    "        orig,adv,ex = examples[i][j]\n",
    "        plt.title(\"{} -> {}\".format(orig, adv))\n",
    "        plt.imshow(ex, cmap=\"gray\")\n",
    "plt.tight_layout()\n",
    "plt.show()"
   ]
  },
  {
   "cell_type": "markdown",
   "metadata": {
    "colab_type": "text",
    "id": "iPB-GK1CymiV"
   },
   "source": [
    "### 1.2.1: Using libraries for attacks (10 Points)\n",
    "As the field of evasion attacks (in particular for DNN) is very active research field, several libraries have been published that contain attacks. We will work here with the Foolbox (https://github.com/bethgelab/foolbox) library. Please implement two other (recent, advanced) attacks of your choice using this library. "
   ]
  },
  {
   "cell_type": "code",
   "execution_count": 0,
   "metadata": {
    "colab": {},
    "colab_type": "code",
    "id": "pa6rPT53LUW8"
   },
   "outputs": [],
   "source": [
    "#\n",
    "#\n",
    "# ------- Your Code -------\n",
    "#\n",
    "#\n",
    "\n",
    "# (a) attack 1\n",
    "# (b) attack 2"
   ]
  },
  {
   "cell_type": "markdown",
   "metadata": {
    "colab_type": "text",
    "id": "xVH821TOymic"
   },
   "source": [
    "### 1.2.2: Visualizing the results (20 Points)\n",
    "As before, please plot the new adversarial examples. Compare all crafting techniques (FGSM, 2 methods from Foolbox).\n"
   ]
  },
  {
   "cell_type": "code",
   "execution_count": 0,
   "metadata": {
    "colab": {},
    "colab_type": "code",
    "id": "69nc8PMRymid"
   },
   "outputs": [],
   "source": [
    "#\n",
    "#\n",
    "# ------- Your Code -------\n",
    "#\n",
    "#\n",
    "\n",
    "# template code (Please feel free to change this)\n",
    "# (each column corresponds to one attack method)\n",
    "col_titles = ['Ori','FGSM','Method 1', 'Method 2'] \n",
    "nsamples = 10\n",
    "nrows = nsamples\n",
    "ncols = len(col_titles)\n",
    "\n",
    "fig, axes = plt.subplots(nrows,ncols,figsize=(8,12))  # create the figure with subplots\n",
    "[ax.set_axis_off() for ax in axes.ravel()]  # remove the axis\n",
    "\n",
    "for ax, col in zip(axes[0], col_titles): # set up the title for each column\n",
    "    ax.set_title(col,fontdict={'fontsize':18,'color':'b'})\n",
    "\n",
    "for i in range(nsamples):\n",
    "    axes[i,0].imshow(images_ori[i])\n",
    "    axes[i,1].imshow(adv_FGSM[i])\n",
    "    axes[i,2].imshow(adv_Method1[i])\n",
    "    axes[i,3].imshow(adv_Method2[i])\n",
    "                  "
   ]
  },
  {
   "cell_type": "markdown",
   "metadata": {
    "colab_type": "text",
    "id": "m6HxYLl3O1wV"
   },
   "source": [
    "Which differences do you observe when comparing different attack methods? Why?   \n",
    "Please write a brief summary of your findings.   \n",
    "* Does the attack always succeed (the model make wrong prediction on the adversarial sample)?\n",
    "* How different is the adversarial sample from the original image?\n",
    "(L0,L2,Linf norm)  \n",
    "* How about the computation cost of each attack method?\n",
    "* Does the attack require white-box access to the model?\n",
    "* ....."
   ]
  },
  {
   "cell_type": "markdown",
   "metadata": {
    "colab_type": "text",
    "id": "KJUmrv5Bymij"
   },
   "source": [
    "# 2. Defending an ML model\n",
    "\n",
    "So far, we have focused on attacking an ML model. In this section, we want you to defend your model. As before concerning the attack, you can chose an example from the lecture, or experiment with any idea you have.\n",
    "\n",
    "We do not require the defense to work perfectly - but what we want you to understand is why it works or why it does not work."
   ]
  },
  {
   "cell_type": "markdown",
   "metadata": {
    "colab_type": "text",
    "id": "0gHUFK6Mymik"
   },
   "source": [
    "### 2.1: Implementing a defense of your choice (25 Points)\n",
    "As stated before, feel free to implement a defense or mitigation of your choice. Evaluate the defense on adversarial examples. This entails at least the 1,000 examples crafted from FGSM.   \n",
    "Also, you are encouraged (optional) to defend against the two other attack methods, i.e. you are free to increase this special test set (for example by >30 examples (>10 from your FGSM attack, >10 from both the two other attacks of the library))."
   ]
  },
  {
   "cell_type": "code",
   "execution_count": 0,
   "metadata": {
    "colab": {},
    "colab_type": "code",
    "id": "DD0UalSeymim"
   },
   "outputs": [],
   "source": [
    "#\n",
    "#\n",
    "# ------- Your Code -------\n",
    "#\n",
    "#\n",
    "print('Accuracy on adversarial samples (FGSM) %.2f'%acc_FGSM)\n",
    "print('Accuracy on adversarial samples (FGSM) after defense %.2f'%acc_FGSM_defend)"
   ]
  },
  {
   "cell_type": "markdown",
   "metadata": {
    "colab_type": "text",
    "id": "sIMRqecuymir"
   },
   "source": [
    "### 2.2: Conclusions (15 Points)\n",
    "Please interpret the results of your defense here. \n",
    "\n",
    "* What did you try to make the classifier more robust against FGSM? \n",
    "* Why did it work? \n",
    "* Is the classifier now robust against FGSM?  \n",
    "* ...\n",
    "\n",
    "Feel free to state any interesting finding you encountered during this project."
   ]
  },
  {
   "cell_type": "code",
   "execution_count": 0,
   "metadata": {
    "colab": {},
    "colab_type": "code",
    "id": "scROCZjDymit"
   },
   "outputs": [],
   "source": []
  }
 ],
 "metadata": {
  "colab": {
   "collapsed_sections": [],
   "name": "Project_3_Template.ipynb",
   "provenance": []
  },
  "kernelspec": {
   "display_name": "Python 3",
   "language": "python",
   "name": "python3"
  },
  "language_info": {
   "codemirror_mode": {
    "name": "ipython",
    "version": 3
   },
   "file_extension": ".py",
   "mimetype": "text/x-python",
   "name": "python",
   "nbconvert_exporter": "python",
   "pygments_lexer": "ipython3",
   "version": "3.6.7"
  }
 },
 "nbformat": 4,
 "nbformat_minor": 1
}
